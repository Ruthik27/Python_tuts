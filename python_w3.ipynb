{
 "cells": [
  {
   "cell_type": "code",
   "execution_count": 1,
   "id": "4f0d72ad",
   "metadata": {
    "scrolled": true
   },
   "outputs": [],
   "source": [
    "#conda install -c conda-forge jupyterthemes\n",
    "#pip install jupyterthemes\n",
    "#pip install --upgrade jupyterthemes\n",
    "#!jt -t oceans16\n",
    "#!jt -r\n",
    "#pip uninstall jupyterthemes"
   ]
  },
  {
   "cell_type": "markdown",
   "id": "9d081f32",
   "metadata": {},
   "source": [
    "#### print  anything python_w3"
   ]
  },
  {
   "cell_type": "code",
   "execution_count": 3,
   "id": "b6e57033",
   "metadata": {},
   "outputs": [
    {
     "name": "stdout",
     "output_type": "stream",
     "text": [
      "hello world\n"
     ]
    }
   ],
   "source": [
    "print(\"hello world\")"
   ]
  },
  {
   "cell_type": "markdown",
   "id": "f9ef22b1",
   "metadata": {},
   "source": [
    "#### IF ElSE + comment"
   ]
  },
  {
   "cell_type": "code",
   "execution_count": 11,
   "id": "c7077e27",
   "metadata": {},
   "outputs": [
    {
     "name": "stdout",
     "output_type": "stream",
     "text": [
      "20 is big\n"
     ]
    }
   ],
   "source": [
    "if 5> 20:\n",
    "    print(\"5 is big\")\n",
    "else: #comment it is\n",
    "    print(\"20 is big\")"
   ]
  },
  {
   "cell_type": "markdown",
   "id": "bef1bfe4",
   "metadata": {},
   "source": [
    "### VARIABLES"
   ]
  },
  {
   "cell_type": "markdown",
   "id": "414c957a",
   "metadata": {},
   "source": [
    "##### Know the type of a Variable  + Change the type"
   ]
  },
  {
   "cell_type": "code",
   "execution_count": 35,
   "id": "aa57c71b",
   "metadata": {},
   "outputs": [
    {
     "name": "stdout",
     "output_type": "stream",
     "text": [
      "4\n",
      "4\n",
      "4\n",
      "<class 'str'>\n"
     ]
    }
   ],
   "source": [
    "x = 4 # here x is a variable\n",
    "print(x)\n",
    "y = \"4\"\n",
    "print(y)\n",
    "#x = \"john\"\n",
    "print(x)\n",
    "x = str(x)\n",
    "print(type(x)) #TO FIND VARIABLE TYPE"
   ]
  },
  {
   "cell_type": "markdown",
   "id": "19dbf131",
   "metadata": {},
   "source": [
    "##### types to write a vairable name"
   ]
  },
  {
   "cell_type": "code",
   "execution_count": 36,
   "id": "02e97091",
   "metadata": {},
   "outputs": [],
   "source": [
    "myVariableName = \"Camel Case\"\n",
    "MyVariableName = \"Pascal Case\"\n",
    "my_variable_name = \"Snake Case\""
   ]
  },
  {
   "cell_type": "markdown",
   "id": "51178511",
   "metadata": {},
   "source": [
    "##### assign multiple values"
   ]
  },
  {
   "cell_type": "code",
   "execution_count": 37,
   "id": "0a65a209",
   "metadata": {},
   "outputs": [
    {
     "name": "stdout",
     "output_type": "stream",
     "text": [
      "Orange\n",
      "Banana\n",
      "Cherry\n"
     ]
    }
   ],
   "source": [
    "x, y, z = \"Orange\", \"Banana\", \"Cherry\"\n",
    "print(x)\n",
    "print(y) Almost before\n",
    "print(z)"
   ]
  },
  {
   "cell_type": "markdown",
   "id": "15f94d8a",
   "metadata": {},
   "source": [
    "##### one value -> multiple variable"
   ]
  },
  {
   "cell_type": "code",
   "execution_count": 38,
   "id": "0a5bdcb3",
   "metadata": {},
   "outputs": [
    {
     "name": "stdout",
     "output_type": "stream",
     "text": [
      "Orange\n",
      "Orange\n",
      "Orange\n"
     ]
    }
   ],
   "source": [
    "x = y = z = \"Orange\"\n",
    "print(x)\n",
    "print(y)\n",
    "print(z)"
   ]
  },
  {
   "cell_type": "markdown",
   "id": "f58eb09e",
   "metadata": {},
   "source": [
    "##### Collection"
   ]
  },
  {
   "cell_type": "code",
   "execution_count": 39,
   "id": "6683f3f6",
   "metadata": {},
   "outputs": [
    {
     "name": "stdout",
     "output_type": "stream",
     "text": [
      "apple\n",
      "banana\n",
      "cherry\n"
     ]
    }
   ],
   "source": [
    "fruits = [\"apple\", \"banana\", \"cherry\"]\n",
    "x, y, z = fruits\n",
    "print(x)\n",
    "print(y)\n",
    "print(z)"
   ]
  },
  {
   "cell_type": "markdown",
   "id": "df321160",
   "metadata": {},
   "source": [
    "##### Combining variables"
   ]
  },
  {
   "cell_type": "code",
   "execution_count": 47,
   "id": "c0f2db9b",
   "metadata": {},
   "outputs": [
    {
     "name": "stdout",
     "output_type": "stream",
     "text": [
      "Python is BANG bang\n"
     ]
    }
   ],
   "source": [
    "x = \"BANG\"\n",
    "y = \"bang\"\n",
    "print(\"Python is \" + x +\" \"+ y)"
   ]
  },
  {
   "cell_type": "markdown",
   "id": "0ec5dc6a",
   "metadata": {},
   "source": [
    "##### Global variables"
   ]
  },
  {
   "cell_type": "code",
   "execution_count": 52,
   "id": "d159484e",
   "metadata": {},
   "outputs": [
    {
     "name": "stdout",
     "output_type": "stream",
     "text": [
      "Python is fantastic\n",
      "Python is awesome\n"
     ]
    }
   ],
   "source": [
    "x = \"awesome\" # global\n",
    "\n",
    "def myfunc():\n",
    "    x = \"fantastic\" # local\n",
    "    print(\"Python is \" + x)\n",
    "\n",
    "myfunc()\n",
    "\n",
    "print(\"Python is \" + x)"
   ]
  },
  {
   "cell_type": "code",
   "execution_count": 1,
   "id": "5b111311",
   "metadata": {},
   "outputs": [
    {
     "name": "stdout",
     "output_type": "stream",
     "text": [
      "Python is awesome\n",
      "Python is fantastic\n",
      "Python is cool\n",
      "Python is fantastic\n"
     ]
    }
   ],
   "source": [
    "x = \"awesome\" # global\n",
    "print(\"Python is \" + x)\n",
    "\n",
    "def myfunc():\n",
    "    y = \"cool\" # local\n",
    "    global x\n",
    "    x = \"fantastic\" #global inside funct\n",
    "    print(\"Python is \" + x)\n",
    "    print(\"Python is \" + y)\n",
    "myfunc()\n",
    "print(\"Python is \" + x)"
   ]
  },
  {
   "cell_type": "markdown",
   "id": "886a7d2e",
   "metadata": {},
   "source": [
    "\n",
    "#### data types"
   ]
  },
  {
   "cell_type": "code",
   "execution_count": 2,
   "id": "42f0eb01",
   "metadata": {},
   "outputs": [],
   "source": [
    "# Text Type:str\n",
    "# Numeric Types:int, float, complex\n",
    "# Sequence Types:list, tuple, range\n",
    "# Mapping Type:dict\n",
    "# Set Types:set, frozenset\n",
    "# Boolean Type:bool\n",
    "# Binary Types:bytes, bytearray, memoryview"
   ]
  },
  {
   "cell_type": "markdown",
   "id": "576baf66",
   "metadata": {},
   "source": [
    "###### setting data type"
   ]
  },
  {
   "cell_type": "code",
   "execution_count": 9,
   "id": "ac5f5d54",
   "metadata": {},
   "outputs": [
    {
     "name": "stdout",
     "output_type": "stream",
     "text": [
      "Hello World\n",
      "<class 'str'>\n",
      "20\n",
      "<class 'int'>\n",
      "20.5\n",
      "<class 'float'>\n",
      "1j\n",
      "<class 'complex'>\n",
      "['apple', 'banana', 'cherry']\n",
      "<class 'list'>\n",
      "('apple', 'banana', 'cherry')\n",
      "<class 'tuple'>\n",
      "range(0, 6)\n",
      "<class 'range'>\n",
      "{'name': 'John', 'age': 36}\n",
      "<class 'dict'>\n",
      "{'cherry', 'apple', 'banana'}\n",
      "<class 'set'>\n",
      "frozenset({'cherry', 'apple', 'banana'})\n",
      "<class 'frozenset'>\n",
      "True\n",
      "<class 'bool'>\n",
      "b'Hello'\n",
      "<class 'bytes'>\n",
      "True\n",
      "bytearray(b'\\x00\\x00\\x00\\x00\\x00')\n",
      "<class 'bytearray'>\n",
      "<memory at 0x000001A7C1520DC0>\n",
      "<class 'memoryview'>\n"
     ]
    }
   ],
   "source": [
    "a = str(\"Hello World\")\n",
    "print(a)\n",
    "print(type(a))\n",
    "\n",
    "b = int(20)\n",
    "print(b)\n",
    "print(type(b))\n",
    "\n",
    "c = float(20.5)\n",
    "print(c)\n",
    "print(type(c))\n",
    "\n",
    "d = complex(1j)\n",
    "print(d)\n",
    "print(type(d))\n",
    "\n",
    "e = list((\"apple\", \"banana\", \"cherry\"))\n",
    "print(e)\n",
    "print(type(e))\n",
    "\n",
    "f = tuple((\"apple\", \"banana\", \"cherry\"))\n",
    "print(f)\n",
    "print(type(f))\n",
    "\n",
    "g = range(6)\n",
    "print(g)\n",
    "print(type(g))\n",
    "\n",
    "h = dict(name=\"John\", age=36)\n",
    "print(h)\n",
    "print(type(h))\n",
    "\n",
    "i = set((\"apple\", \"banana\", \"cherry\"))\n",
    "print(i)\n",
    "print(type(i))\n",
    "\n",
    "j = frozenset((\"apple\", \"banana\", \"cherry\"))\n",
    "print(j)\n",
    "print(type(j))\n",
    "\n",
    "k = True\n",
    "print(k)\n",
    "print(type(k))\n",
    "\n",
    "l = b\"Hello\"\n",
    "print(l)\n",
    "print(type(l))\n",
    "\n",
    "o = bool(5)\n",
    "print(o)\n",
    "\n",
    "m = bytearray(5)\n",
    "print(m)\n",
    "print(type(m))\n",
    "\n",
    "n = memoryview(bytes(5))\n",
    "print(n)\n",
    "print(type(n))"
   ]
  },
  {
   "cell_type": "markdown",
   "id": "ab0908ca",
   "metadata": {},
   "source": [
    "###### python numbers"
   ]
  },
  {
   "cell_type": "code",
   "execution_count": 16,
   "id": "c3433d0c",
   "metadata": {},
   "outputs": [
    {
     "name": "stdout",
     "output_type": "stream",
     "text": [
      "<class 'int'>\n",
      "<class 'float'>\n",
      "<class 'complex'>\n"
     ]
    }
   ],
   "source": [
    "x = 1\n",
    "y = 2.8\n",
    "z = 1j\n",
    "print(type(x))\n",
    "print(type(y))\n",
    "print(type(z))"
   ]
  },
  {
   "cell_type": "markdown",
   "id": "8172741b",
   "metadata": {},
   "source": [
    "###### convertion "
   ]
  },
  {
   "cell_type": "code",
   "execution_count": 17,
   "id": "9abda065",
   "metadata": {},
   "outputs": [
    {
     "name": "stdout",
     "output_type": "stream",
     "text": [
      "1.0\n",
      "2\n",
      "(1+0j)\n",
      "<class 'float'>\n",
      "<class 'int'>\n",
      "<class 'complex'>\n"
     ]
    }
   ],
   "source": [
    "x = 1    # int\n",
    "y = 2.8  # float\n",
    "z = 1j   # complex\n",
    "\n",
    "#convert from int to float:\n",
    "a = float(x)\n",
    "\n",
    "#convert from float to int:\n",
    "b = int(y)\n",
    "\n",
    "#convert from int to complex:\n",
    "c = complex(x)\n",
    "\n",
    "print(a)\n",
    "print(b)\n",
    "print(c)\n",
    "\n",
    "print(type(a))\n",
    "print(type(b))\n",
    "print(type(c))"
   ]
  },
  {
   "cell_type": "markdown",
   "id": "68e7a80e",
   "metadata": {},
   "source": [
    "###### random"
   ]
  },
  {
   "cell_type": "code",
   "execution_count": 19,
   "id": "60d13cc3",
   "metadata": {},
   "outputs": [
    {
     "name": "stdout",
     "output_type": "stream",
     "text": [
      "2\n"
     ]
    }
   ],
   "source": [
    "import random\n",
    "\n",
    "print(random.randrange(1, 10))"
   ]
  },
  {
   "cell_type": "markdown",
   "id": "90f37b57",
   "metadata": {},
   "source": [
    "###### specify"
   ]
  },
  {
   "cell_type": "code",
   "execution_count": 22,
   "id": "b78ee0c2",
   "metadata": {},
   "outputs": [
    {
     "name": "stdout",
     "output_type": "stream",
     "text": [
      "1\n",
      "2\n",
      "3\n"
     ]
    }
   ],
   "source": [
    "x = int(1)  \n",
    "y = int(2.8)\n",
    "z = int(\"3\")\n",
    "print(x)\n",
    "print(y)\n",
    "print(z)"
   ]
  },
  {
   "cell_type": "code",
   "execution_count": 23,
   "id": "c67026fb",
   "metadata": {},
   "outputs": [
    {
     "name": "stdout",
     "output_type": "stream",
     "text": [
      "1.0\n",
      "2.8\n",
      "3.0\n",
      "4.2\n"
     ]
    }
   ],
   "source": [
    "x = float(1)     \n",
    "y = float(2.8)   \n",
    "z = float(\"3\")   \n",
    "w = float(\"4.2\") \n",
    "print(x)\n",
    "print(y)\n",
    "print(z)\n",
    "print(w)"
   ]
  },
  {
   "cell_type": "code",
   "execution_count": 24,
   "id": "7fc484ce",
   "metadata": {},
   "outputs": [
    {
     "name": "stdout",
     "output_type": "stream",
     "text": [
      "s1\n",
      "2\n",
      "3.0\n"
     ]
    }
   ],
   "source": [
    "x = str(\"s1\") \n",
    "y = str(2)    \n",
    "z = str(3.0)\n",
    "print(x)\n",
    "print(y)\n",
    "print(z)"
   ]
  },
  {
   "cell_type": "markdown",
   "id": "e49229c1",
   "metadata": {},
   "source": []
  },
  {
   "cell_type": "code",
   "execution_count": 28,
   "id": "2d8cb9fa",
   "metadata": {},
   "outputs": [
    {
     "name": "stdout",
     "output_type": "stream",
     "text": [
      "Hello\n"
     ]
    }
   ],
   "source": [
    "a = \"Hello\"\n",
    "print(a)"
   ]
  },
  {
   "cell_type": "code",
   "execution_count": 32,
   "id": "5e43c5b0",
   "metadata": {},
   "outputs": [
    {
     "name": "stdout",
     "output_type": "stream",
     "text": [
      "e\n"
     ]
    }
   ],
   "source": [
    "a = \"Hello, World!\"\n",
    "print(a[1])"
   ]
  },
  {
   "cell_type": "code",
   "execution_count": 34,
   "id": "b23c1700",
   "metadata": {},
   "outputs": [
    {
     "name": "stdout",
     "output_type": "stream",
     "text": [
      "b\n",
      "a\n",
      "n\n",
      "a\n",
      "n\n",
      "a\n"
     ]
    }
   ],
   "source": [
    "for x in \"banana\":\n",
    "    print(x)"
   ]
  },
  {
   "cell_type": "code",
   "execution_count": 35,
   "id": "4d2c78c3",
   "metadata": {},
   "outputs": [
    {
     "name": "stdout",
     "output_type": "stream",
     "text": [
      "13\n"
     ]
    }
   ],
   "source": [
    "a = \"Hello, World!\"\n",
    "print(len(a))"
   ]
  },
  {
   "cell_type": "code",
   "execution_count": 36,
   "id": "a96c4c0c",
   "metadata": {},
   "outputs": [
    {
     "name": "stdout",
     "output_type": "stream",
     "text": [
      "True\n"
     ]
    }
   ],
   "source": [
    "txt = \"The best things in life are free!\"\n",
    "print(\"free\" in txt)"
   ]
  },
  {
   "cell_type": "code",
   "execution_count": 37,
   "id": "cefd9bde",
   "metadata": {},
   "outputs": [
    {
     "name": "stdout",
     "output_type": "stream",
     "text": [
      "Yes, 'free' is present.\n"
     ]
    }
   ],
   "source": [
    "txt = \"The best things in life are free!\"\n",
    "if \"free\" in txt:\n",
    "    print(\"Yes, 'free' is present.\")"
   ]
  },
  {
   "cell_type": "code",
   "execution_count": 38,
   "id": "732ba0e3",
   "metadata": {},
   "outputs": [
    {
     "name": "stdout",
     "output_type": "stream",
     "text": [
      "True\n"
     ]
    }
   ],
   "source": [
    "txt = \"The best things in life are free!\"\n",
    "print(\"expensive\" not in txt)"
   ]
  },
  {
   "cell_type": "code",
   "execution_count": 39,
   "id": "282c11a6",
   "metadata": {},
   "outputs": [
    {
     "name": "stdout",
     "output_type": "stream",
     "text": [
      "No, 'expensive' is NOT present.\n"
     ]
    }
   ],
   "source": [
    "txt = \"The best things in life are free!\"\n",
    "if \"expensive\" not in txt:\n",
    "    print(\"No, 'expensive' is NOT present.\")"
   ]
  },
  {
   "cell_type": "markdown",
   "id": "36f1b734",
   "metadata": {},
   "source": [
    "###### Slicing "
   ]
  },
  {
   "cell_type": "code",
   "execution_count": 40,
   "id": "84cce682",
   "metadata": {},
   "outputs": [
    {
     "name": "stdout",
     "output_type": "stream",
     "text": [
      "llo\n"
     ]
    }
   ],
   "source": [
    "b = \"Hello, World!\"\n",
    "print(b[2:5])"
   ]
  },
  {
   "cell_type": "markdown",
   "id": "a7e39e1c",
   "metadata": {},
   "source": [
    "###### Slice from the Start"
   ]
  },
  {
   "cell_type": "code",
   "execution_count": 41,
   "id": "200e580b",
   "metadata": {},
   "outputs": [
    {
     "name": "stdout",
     "output_type": "stream",
     "text": [
      "Hello\n"
     ]
    }
   ],
   "source": [
    "b = \"Hello, World!\"\n",
    "print(b[:5])"
   ]
  },
  {
   "cell_type": "markdown",
   "id": "239a682a",
   "metadata": {},
   "source": [
    "###### Slice to the End"
   ]
  },
  {
   "cell_type": "code",
   "execution_count": 44,
   "id": "656f5dee",
   "metadata": {},
   "outputs": [
    {
     "name": "stdout",
     "output_type": "stream",
     "text": [
      "llo, World!\n"
     ]
    }
   ],
   "source": [
    "b = \"Hello, World!\"\n",
    "print(b[2:])"
   ]
  },
  {
   "cell_type": "markdown",
   "id": "08349fe7",
   "metadata": {},
   "source": [
    "###### Negative Indexing"
   ]
  },
  {
   "cell_type": "code",
   "execution_count": 43,
   "id": "d9f29d03",
   "metadata": {},
   "outputs": [
    {
     "name": "stdout",
     "output_type": "stream",
     "text": [
      "orl\n"
     ]
    }
   ],
   "source": [
    "b = \"Hello, World!\"\n",
    "print(b[-5:-2])"
   ]
  },
  {
   "cell_type": "markdown",
   "id": "6eb01c3b",
   "metadata": {},
   "source": [
    "###### Upper case"
   ]
  },
  {
   "cell_type": "code",
   "execution_count": 45,
   "id": "1b667bfb",
   "metadata": {},
   "outputs": [
    {
     "name": "stdout",
     "output_type": "stream",
     "text": [
      "HELLO, WORLD!\n"
     ]
    }
   ],
   "source": [
    "a = \"Hello, World!\"\n",
    "print(a.upper())"
   ]
  },
  {
   "cell_type": "markdown",
   "id": "522fc7d6",
   "metadata": {},
   "source": [
    "###### Lower Case"
   ]
  },
  {
   "cell_type": "code",
   "execution_count": 46,
   "id": "1cbc6147",
   "metadata": {},
   "outputs": [
    {
     "name": "stdout",
     "output_type": "stream",
     "text": [
      "hello, world!\n"
     ]
    }
   ],
   "source": [
    "a = \"Hello, World!\"\n",
    "print(a.lower())"
   ]
  },
  {
   "cell_type": "markdown",
   "id": "4af73e8b",
   "metadata": {},
   "source": [
    "###### Remove Whitespace"
   ]
  },
  {
   "cell_type": "code",
   "execution_count": 47,
   "id": "1f193c4e",
   "metadata": {},
   "outputs": [
    {
     "name": "stdout",
     "output_type": "stream",
     "text": [
      "Hello, World!\n"
     ]
    }
   ],
   "source": [
    "a = \" Hello, World! \"\n",
    "print(a.strip())"
   ]
  },
  {
   "cell_type": "markdown",
   "id": "b101bea4",
   "metadata": {},
   "source": [
    "###### Replace string"
   ]
  },
  {
   "cell_type": "code",
   "execution_count": 48,
   "id": "472115ca",
   "metadata": {},
   "outputs": [
    {
     "name": "stdout",
     "output_type": "stream",
     "text": [
      "Jello, World!\n"
     ]
    }
   ],
   "source": [
    "a = \"Hello, World!\"\n",
    "print(a.replace(\"H\", \"J\"))"
   ]
  },
  {
   "cell_type": "markdown",
   "id": "e478bd5a",
   "metadata": {},
   "source": [
    "###### Split string"
   ]
  },
  {
   "cell_type": "code",
   "execution_count": 2,
   "id": "3c87d57e",
   "metadata": {},
   "outputs": [
    {
     "name": "stdout",
     "output_type": "stream",
     "text": [
      "['Hello', ' World!']\n",
      "<class 'list'>\n"
     ]
    }
   ],
   "source": [
    "a = \"Hello, World!\"\n",
    "x = a.split(\",\")\n",
    "print(a.split(\",\"))\n",
    "print(type(x))"
   ]
  },
  {
   "cell_type": "markdown",
   "id": "203499a8",
   "metadata": {},
   "source": [
    "###### String Concatenation"
   ]
  },
  {
   "cell_type": "code",
   "execution_count": 52,
   "id": "4d36f92a",
   "metadata": {},
   "outputs": [
    {
     "name": "stdout",
     "output_type": "stream",
     "text": [
      "HelloWorld\n"
     ]
    }
   ],
   "source": [
    "a = \"Hello\"\n",
    "b = \"World\"\n",
    "c = a + b\n",
    "print(c)"
   ]
  },
  {
   "cell_type": "code",
   "execution_count": 53,
   "id": "8d19041b",
   "metadata": {},
   "outputs": [
    {
     "name": "stdout",
     "output_type": "stream",
     "text": [
      "Hello World\n"
     ]
    }
   ],
   "source": [
    "a = \"Hello\"\n",
    "b = \"World\"\n",
    "c = a + \" \" + b\n",
    "print(c)"
   ]
  },
  {
   "cell_type": "markdown",
   "id": "1e795f5d",
   "metadata": {},
   "source": [
    "###### Format Strings"
   ]
  },
  {
   "cell_type": "code",
   "execution_count": 5,
   "id": "0f01672c",
   "metadata": {},
   "outputs": [
    {
     "name": "stdout",
     "output_type": "stream",
     "text": [
      "I want 3 pieces of item 567 for 49.95 dollars.\n"
     ]
    }
   ],
   "source": [
    "#we cannot combine strings and numbers\n",
    "#But we can combine strings and numbers by using the format() method!\n",
    "\n",
    "quantity = 3\n",
    "itemno = 567\n",
    "price = 49.95\n",
    "myorder = \"I want {} pieces of item {} for {} dollars.\"\n",
    "print(myorder.format(quantity, itemno, price))"
   ]
  },
  {
   "cell_type": "code",
   "execution_count": 7,
   "id": "fda2eff8",
   "metadata": {},
   "outputs": [
    {
     "name": "stdout",
     "output_type": "stream",
     "text": [
      "I want to pay 49.95 dollars for 3 pieces of item 567.\n"
     ]
    }
   ],
   "source": [
    "quantity = 3\n",
    "itemno = 567\n",
    "price = 49.95\n",
    "myorder = \"I want to pay {2} dollars for {0} pieces of item {1}.\"\n",
    "print(myorder.format(quantity, itemno, price))"
   ]
  },
  {
   "cell_type": "markdown",
   "id": "bd420908",
   "metadata": {},
   "source": [
    "###### Escape Characters"
   ]
  },
  {
   "cell_type": "code",
   "execution_count": 9,
   "id": "8bb0cdad",
   "metadata": {},
   "outputs": [
    {
     "name": "stdout",
     "output_type": "stream",
     "text": [
      "We are the so-called \"Vikings\" from the north.\n"
     ]
    }
   ],
   "source": [
    "txt = \"We are the so-called \\\"Vikings\\\" from the north.\"\n",
    "print(txt)"
   ]
  },
  {
   "cell_type": "code",
   "execution_count": 12,
   "id": "58a60251",
   "metadata": {},
   "outputs": [],
   "source": [
    "# \\'   Single Quote\n",
    "# \\\\   Backslash\n",
    "# \\n   New Line\n",
    "# \\r   Carriage Return\n",
    "# \\t   Tab\n",
    "# \\b   Backspace\n",
    "# \\f   Form Feed\n",
    "# \\ooo Octal value\n",
    "# \\xhh Hex value"
   ]
  },
  {
   "cell_type": "markdown",
   "id": "317079cd",
   "metadata": {},
   "source": [
    "###### String Method"
   ]
  },
  {
   "cell_type": "code",
   "execution_count": 13,
   "id": "8f83c9c8",
   "metadata": {},
   "outputs": [],
   "source": [
    "#All string methods returns new values. They do not change the original string."
   ]
  },
  {
   "cell_type": "markdown",
   "id": "80180243",
   "metadata": {},
   "source": [
    ">**capitalize()**\tConverts the first character to upper case\n",
    "\n",
    ">**casefold()**\tConverts string into lower case\n",
    "\n",
    ">**center()**\tReturns a centered string\n",
    "\n",
    ">**count()**\tReturns the number of times a specified value occurs in a string\n",
    "\n",
    ">**encode()**\tReturns an encoded version of the string\n",
    "\n",
    ">**endswith()**\tReturns true if the string ends with the specified value\n",
    "\n",
    ">**expandtabs()**\tSets the tab size of the string\n",
    "\n",
    ">**find()**\tSearches the string for a specified value and returns the position of where it was found\n",
    "\n",
    ">**format()**\tFormats specified values in a string\n",
    "\n",
    ">**format_map()**\tFormats specified values in a string\n",
    "\n",
    ">**index()**\tSearches the string for a specified value and returns the position of where it was found\n",
    "\n",
    ">**isalnum()**\tReturns True if all characters in the string are alphanumeric\n",
    "\n",
    ">**isalpha()**\tReturns True if all characters in the string are in the alphabet\n",
    "\n",
    ">**isdecimal()**\tReturns True if all characters in the string are decimals\n",
    "\n",
    ">**isdigit()**\tReturns True if all characters in the string are digits\n",
    "\n",
    ">**isidentifier()**\tReturns True if the string is an identifier\n",
    "\n",
    ">**islower()**\tReturns True if all characters in the string are lower case\n",
    "\n",
    ">**isnumeric()**\tReturns True if all characters in the string are numeric\n",
    "\n",
    ">**isprintable()**\tReturns True if all characters in the string are printable\n",
    "\n",
    ">**isspace()**\tReturns True if all characters in the string are whitespaces\n",
    "\n",
    ">**istitle()**\tReturns True if the string follows the rules of a title\n",
    "\n",
    ">**isupper()**\tReturns True if all characters in the string are upper case\n",
    "\n",
    ">**join()**\tJoins the elements of an iterable to the end of the string\n",
    "\n",
    ">**ljust()**\tReturns a left justified version of the string\n",
    "\n",
    ">**lower()**\tConverts a string into lower case\n",
    "\n",
    ">**lstrip()**\tReturns a left trim version of the string\n",
    "\n",
    ">**maketrans()**\tReturns a translation table to be used in translations\n",
    "\n",
    ">**partition()**\tReturns a tuple where the string is parted into three parts\n",
    "\n",
    ">**replace()**\tReturns a string where a specified value is replaced with a specified value\n",
    "\n",
    ">**rfind()**\tSearches the string for a specified value and returns the last position of where it was found\n",
    "\n",
    ">**rindex()**\tSearches the string for a specified value and returns the last position of where it was found\n",
    "\n",
    ">**rjust()**\tReturns a right justified version of the string\n",
    "\n",
    ">**rpartition()**\tReturns a tuple where the string is parted into three parts\n",
    "\n",
    ">**rsplit()**\tSplits the string at the specified separator, and returns a list\n",
    "\n",
    ">**rstrip()**\tReturns a right trim version of the string\n",
    "\n",
    ">**split()**\tSplits the string at the specified separator, and returns a list\n",
    "\n",
    ">**splitlines()**\tSplits the string at line breaks and returns a list\n",
    "\n",
    ">**startswith()**\tReturns true if the string starts with the specified value\n",
    "\n",
    ">**strip()**\tReturns a trimmed version of the string\n",
    "\n",
    ">**swapcase()**\tSwaps cases, lower case becomes upper case and vice versa\n",
    "\n",
    ">**title()**\tConverts the first character of each word to upper case\n",
    "\n",
    ">**translate()**\tReturns a translated string\n",
    "\n",
    ">**upper()**\tConverts a string into upper case\n",
    "\n",
    ">**zfill()**\tFills the string with a specified number of 0 values at the beginning"
   ]
  },
  {
   "cell_type": "markdown",
   "id": "fdc674b0",
   "metadata": {},
   "source": [
    "###### Booleans"
   ]
  },
  {
   "cell_type": "code",
   "execution_count": 15,
   "id": "a61789db",
   "metadata": {},
   "outputs": [
    {
     "name": "stdout",
     "output_type": "stream",
     "text": [
      "True\n",
      "False\n",
      "False\n"
     ]
    }
   ],
   "source": [
    "print(10 > 9)\n",
    "print(10 == 9)\n",
    "print(10 < 9)"
   ]
  },
  {
   "cell_type": "code",
   "execution_count": 16,
   "id": "c508419c",
   "metadata": {},
   "outputs": [
    {
     "name": "stdout",
     "output_type": "stream",
     "text": [
      "b is not greater than a\n"
     ]
    }
   ],
   "source": [
    "a = 200\n",
    "b = 33\n",
    "\n",
    "if b > a:\n",
    "  print(\"b is greater than a\")\n",
    "else:\n",
    "  print(\"b is not greater than a\")"
   ]
  },
  {
   "cell_type": "code",
   "execution_count": 18,
   "id": "ea9f9fd8",
   "metadata": {},
   "outputs": [
    {
     "name": "stdout",
     "output_type": "stream",
     "text": [
      "True\n",
      "True\n"
     ]
    }
   ],
   "source": [
    "x = \"Hello\"\n",
    "y = 15\n",
    "\n",
    "print(bool(x))\n",
    "print(bool(y))"
   ]
  },
  {
   "cell_type": "code",
   "execution_count": 20,
   "id": "3fd98997",
   "metadata": {},
   "outputs": [
    {
     "data": {
      "text/plain": [
       "True"
      ]
     },
     "execution_count": 20,
     "metadata": {},
     "output_type": "execute_result"
    }
   ],
   "source": [
    "#Almost any value is evaluated to True if it has some sort of content.\n",
    "#Any string is True, except empty strings.\n",
    "#Any number is True, except 0.\n",
    "#Any list, tuple, set, and dictionary are True, except empty ones.\n",
    "\n",
    "bool(\"abc\")\n",
    "bool(123)\n",
    "bool([\"apple\", \"cherry\", \"banana\"])"
   ]
  },
  {
   "cell_type": "code",
   "execution_count": 25,
   "id": "81b5cd8f",
   "metadata": {},
   "outputs": [
    {
     "data": {
      "text/plain": [
       "False"
      ]
     },
     "execution_count": 25,
     "metadata": {},
     "output_type": "execute_result"
    }
   ],
   "source": [
    "#In fact, there are not many values that evaluate to F, except empty values, \n",
    "#such as (), [], {}, \"\", the number 0, and the value None. \n",
    "#And of course the value False evaluates to False.\n",
    "bool(False)\n",
    "bool(None)\n",
    "bool(0)\n",
    "bool(\"\")\n",
    "bool(())\n",
    "bool([])\n",
    "bool({})"
   ]
  },
  {
   "cell_type": "code",
   "execution_count": 28,
   "id": "1ac7ee96",
   "metadata": {},
   "outputs": [
    {
     "name": "stdout",
     "output_type": "stream",
     "text": [
      "False\n"
     ]
    }
   ],
   "source": [
    "#if you have an object that is made from a class with a __len__ function that returns 0 or False\n",
    "class myclass():\n",
    "    def __len__(self):\n",
    "        return 0\n",
    "\n",
    "myobj = myclass()\n",
    "print(bool(myobj))\n"
   ]
  },
  {
   "cell_type": "markdown",
   "id": "59d65abd",
   "metadata": {},
   "source": [
    "###### Functions returning Boolean"
   ]
  },
  {
   "cell_type": "code",
   "execution_count": 30,
   "id": "865f6302",
   "metadata": {},
   "outputs": [
    {
     "name": "stdout",
     "output_type": "stream",
     "text": [
      "True\n"
     ]
    }
   ],
   "source": [
    "def myFunction() :\n",
    "    return True\n",
    "\n",
    "print(myFunction())"
   ]
  },
  {
   "cell_type": "code",
   "execution_count": 31,
   "id": "68a62736",
   "metadata": {},
   "outputs": [
    {
     "name": "stdout",
     "output_type": "stream",
     "text": [
      "YES!\n"
     ]
    }
   ],
   "source": [
    "def myFunction() :\n",
    "    return True\n",
    "\n",
    "if myFunction():\n",
    "    print(\"YES!\")\n",
    "else:\n",
    "    print(\"NO!\")"
   ]
  },
  {
   "cell_type": "code",
   "execution_count": 32,
   "id": "7f8850d8",
   "metadata": {},
   "outputs": [
    {
     "name": "stdout",
     "output_type": "stream",
     "text": [
      "True\n"
     ]
    }
   ],
   "source": [
    "x = 200\n",
    "print(isinstance(x, int))"
   ]
  },
  {
   "cell_type": "markdown",
   "id": "3af465e6",
   "metadata": {},
   "source": [
    "### Operators"
   ]
  },
  {
   "cell_type": "markdown",
   "id": "bf7fa616",
   "metadata": {},
   "source": [
    "* Arithmetic operators"
   ]
  },
  {
   "cell_type": "code",
   "execution_count": 16,
   "id": "1ab45fae",
   "metadata": {},
   "outputs": [
    {
     "name": "stdout",
     "output_type": "stream",
     "text": [
      "50\n",
      "15\n",
      "6\n",
      "2.0\n",
      "1\n",
      "4\n",
      "2\n"
     ]
    }
   ],
   "source": [
    "print(20+30)\n",
    "print(30-15)\n",
    "print(2*3)\n",
    "print(6/3)\n",
    "print(5%2)\n",
    "print(2**2)\n",
    "print(5//2)"
   ]
  },
  {
   "cell_type": "markdown",
   "id": "d43a1505",
   "metadata": {},
   "source": [
    "* Assignment operators\n"
   ]
  },
  {
   "cell_type": "code",
   "execution_count": 46,
   "id": "b97c0965",
   "metadata": {},
   "outputs": [
    {
     "name": "stdout",
     "output_type": "stream",
     "text": [
      "30\n",
      "33\n",
      "30\n",
      "90\n",
      "30.0\n",
      "27000.0\n",
      "1\n",
      "38\n",
      "2\n",
      "3\n",
      "0\n",
      "0\n",
      "0\n"
     ]
    }
   ],
   "source": [
    "x   =    30;    print(x)\n",
    "x   +=   3;    print(x)\n",
    "x   -=   3;    print(x)\n",
    "x   *=   3;    print(x)\n",
    "x   /=   3;    print(x)\n",
    "x   **=  3;    print(x)\n",
    "x    =   115\n",
    "x   %=   3;    print(x)\n",
    "x   =  115\n",
    "x   //=  3;    print(x)\n",
    "\n",
    "x   &=   3;    print(x)\n",
    "x   |=   3;    print(x)\n",
    "x   ^=   3;    print(x)\n",
    "x   >>=  3;    print(x)\n",
    "x   <<=  3;    print(x)"
   ]
  },
  {
   "cell_type": "markdown",
   "id": "c27a7950",
   "metadata": {},
   "source": [
    "* Comparison operators"
   ]
  },
  {
   "cell_type": "code",
   "execution_count": 53,
   "id": "75eda6c5",
   "metadata": {},
   "outputs": [
    {
     "name": "stdout",
     "output_type": "stream",
     "text": [
      "False\n",
      "True\n",
      "False\n",
      "True\n",
      "True\n",
      "False\n"
     ]
    }
   ],
   "source": [
    "x = 5; y = 10; \n",
    "print(x == y)\n",
    "print(x != y)\n",
    "print(x  > y)\n",
    "print(x <  y)\n",
    "print(x <= y)\n",
    "print(x >= y)"
   ]
  },
  {
   "cell_type": "markdown",
   "id": "cf368fa9",
   "metadata": {},
   "source": [
    "* Logical operators"
   ]
  },
  {
   "cell_type": "code",
   "execution_count": 2,
   "id": "85d63051",
   "metadata": {},
   "outputs": [
    {
     "data": {
      "text/plain": [
       "False"
      ]
     },
     "execution_count": 2,
     "metadata": {},
     "output_type": "execute_result"
    }
   ],
   "source": [
    "x = 5; y = 10; \n",
    "x < 5 and  x < 10"
   ]
  },
  {
   "cell_type": "code",
   "execution_count": 3,
   "id": "a600a04e",
   "metadata": {},
   "outputs": [
    {
     "data": {
      "text/plain": [
       "False"
      ]
     },
     "execution_count": 3,
     "metadata": {},
     "output_type": "execute_result"
    }
   ],
   "source": [
    "x < 5 or x < 4"
   ]
  },
  {
   "cell_type": "code",
   "execution_count": 4,
   "id": "ca8183ad",
   "metadata": {},
   "outputs": [
    {
     "data": {
      "text/plain": [
       "True"
      ]
     },
     "execution_count": 4,
     "metadata": {},
     "output_type": "execute_result"
    }
   ],
   "source": [
    "not(x < 5 and x < 10)"
   ]
  },
  {
   "cell_type": "markdown",
   "id": "fb633f57",
   "metadata": {},
   "source": [
    " * Identity operators "
   ]
  },
  {
   "cell_type": "code",
   "execution_count": 60,
   "id": "62f21c99",
   "metadata": {},
   "outputs": [
    {
     "data": {
      "text/plain": [
       "False"
      ]
     },
     "execution_count": 60,
     "metadata": {},
     "output_type": "execute_result"
    }
   ],
   "source": [
    "x is y"
   ]
  },
  {
   "cell_type": "code",
   "execution_count": 61,
   "id": "69ca6ab8",
   "metadata": {},
   "outputs": [
    {
     "data": {
      "text/plain": [
       "True"
      ]
     },
     "execution_count": 61,
     "metadata": {},
     "output_type": "execute_result"
    }
   ],
   "source": [
    "x is not y"
   ]
  },
  {
   "cell_type": "markdown",
   "id": "834eb193",
   "metadata": {},
   "source": [
    "* Membership operators"
   ]
  },
  {
   "cell_type": "code",
   "execution_count": 69,
   "id": "24f21eb3",
   "metadata": {},
   "outputs": [
    {
     "data": {
      "text/plain": [
       "True"
      ]
     },
     "execution_count": 69,
     "metadata": {},
     "output_type": "execute_result"
    }
   ],
   "source": [
    "a = [1, 2, 3, 4, 5]\n",
    "x in a"
   ]
  },
  {
   "cell_type": "code",
   "execution_count": 70,
   "id": "f0236fa4",
   "metadata": {},
   "outputs": [
    {
     "data": {
      "text/plain": [
       "True"
      ]
     },
     "execution_count": 70,
     "metadata": {},
     "output_type": "execute_result"
    }
   ],
   "source": [
    "y not in a"
   ]
  },
  {
   "cell_type": "markdown",
   "id": "95bca295",
   "metadata": {},
   "source": [
    "* Bitwise operators"
   ]
  },
  {
   "cell_type": "markdown",
   "id": "a5835eaa",
   "metadata": {},
   "source": [
    "& \tAND\tSets each bit to 1 if both bits are 1\n",
    "\n",
    "|\tOR\tSets each bit to 1 if one of two bits is 1\n",
    "\n",
    " ^\tXOR\tSets each bit to 1 if only one of two bits is 1\n",
    " \n",
    "~ \tNOT\tInverts all the bits\n",
    "\n",
    "<<\tZero fill left shift\tShift left by pushing zeros in from the right and let the leftmost bits fall off\n",
    "\n",
    "\\>>\tSigned right shift\tShift right by pushing copies of the leftmost bit in from the left, and let the rightmost bits fall off"
   ]
  },
  {
   "cell_type": "markdown",
   "id": "910ffa7b",
   "metadata": {},
   "source": [
    ">**4 Data Types**\n",
    ">>List\n",
    ">>\n",
    ">>Tuples\n",
    ">>\n",
    ">>Sets\n",
    ">>\n",
    ">>Dictionaries"
   ]
  },
  {
   "cell_type": "markdown",
   "id": "691ea56a",
   "metadata": {},
   "source": [
    "### Lists"
   ]
  },
  {
   "cell_type": "code",
   "execution_count": 7,
   "id": "782ebd15",
   "metadata": {},
   "outputs": [
    {
     "name": "stdout",
     "output_type": "stream",
     "text": [
      "['apple', 'banana', 'cherry', 'apple', 'cherry']\n",
      "5\n"
     ]
    }
   ],
   "source": [
    "mylist =  [\"apple\", \"banana\", \"cherry\", \"apple\", \"cherry\"]\n",
    "print(mylist)\n",
    "print(len(mylist))"
   ]
  },
  {
   "cell_type": "code",
   "execution_count": 8,
   "id": "432f016f",
   "metadata": {},
   "outputs": [
    {
     "name": "stdout",
     "output_type": "stream",
     "text": [
      "['abc', 34, True, 40, 'male']\n",
      "<class 'list'>\n"
     ]
    }
   ],
   "source": [
    "list1 = [\"apple\", \"banana\", \"cherry\"]\n",
    "list2 = [1, 5, 7, 9, 3]\n",
    "list3 = [True, False, False]\n",
    "list4 = [\"abc\", 34, True, 40, \"male\"]\n",
    "print(list4)\n",
    "print(type(list4))"
   ]
  },
  {
   "cell_type": "code",
   "execution_count": 9,
   "id": "c0701ed2",
   "metadata": {},
   "outputs": [
    {
     "name": "stdout",
     "output_type": "stream",
     "text": [
      "['apple', 'banana', 'cherry']\n"
     ]
    }
   ],
   "source": [
    "thislist = list((\"apple\", \"banana\", \"cherry\")) # note the double round-brackets\n",
    "print(thislist)"
   ]
  },
  {
   "cell_type": "markdown",
   "id": "d6c27a09",
   "metadata": {},
   "source": [
    "###### access list items"
   ]
  },
  {
   "cell_type": "code",
   "execution_count": 10,
   "id": "218a842b",
   "metadata": {},
   "outputs": [
    {
     "name": "stdout",
     "output_type": "stream",
     "text": [
      "kiwi\n",
      "mango\n",
      "['cherry', 'orange', 'kiwi']\n",
      "['apple', 'banana', 'cherry', 'orange']\n",
      "['cherry', 'orange', 'kiwi', 'melon', 'mango']\n",
      "['orange', 'kiwi', 'melon']\n",
      "Yes, 'apple' is in the fruits list\n"
     ]
    }
   ],
   "source": [
    "list5 = [\"apple\", \"banana\", \"cherry\", \"orange\", \"kiwi\", \"melon\", \"mango\"]\n",
    "print(list5[4])\n",
    "print(list5[-1])\n",
    "print(list5[2:5])\n",
    "print(list5[:4])\n",
    "print(list5[2:])\n",
    "print(list5[-4:-1])\n",
    "\n",
    "if \"apple\" in thislist:\n",
    "    print(\"Yes, 'apple' is in the fruits list\")"
   ]
  },
  {
   "cell_type": "markdown",
   "id": "ef004171",
   "metadata": {},
   "source": [
    "###### change list items"
   ]
  },
  {
   "cell_type": "code",
   "execution_count": 11,
   "id": "7c871909",
   "metadata": {
    "scrolled": true
   },
   "outputs": [
    {
     "name": "stdout",
     "output_type": "stream",
     "text": [
      "['apple', 'banana', 'cherry', 'orange', 'macho', 'melon', 'mango']\n"
     ]
    }
   ],
   "source": [
    "list5[4] = \"macho\"; print(list5)"
   ]
  },
  {
   "cell_type": "code",
   "execution_count": 12,
   "id": "23c274bf",
   "metadata": {},
   "outputs": [
    {
     "name": "stdout",
     "output_type": "stream",
     "text": [
      "['apple', 'blackcurrant', 'watermelon', 'orange', 'macho', 'melon', 'mango']\n"
     ]
    }
   ],
   "source": [
    "list5[1:3] = [\"blackcurrant\", \"watermelon\"]\n",
    "print(list5)"
   ]
  },
  {
   "cell_type": "code",
   "execution_count": 13,
   "id": "ee047e6c",
   "metadata": {},
   "outputs": [
    {
     "name": "stdout",
     "output_type": "stream",
     "text": [
      "['apple', 'currant', 'water', 'watermelon', 'orange', 'macho', 'melon', 'mango']\n"
     ]
    }
   ],
   "source": [
    "list5[1:2] = [\"currant\", \"water\"]\n",
    "print(list5)"
   ]
  },
  {
   "cell_type": "code",
   "execution_count": 14,
   "id": "c2e53a00",
   "metadata": {},
   "outputs": [
    {
     "name": "stdout",
     "output_type": "stream",
     "text": [
      "['apple', 'blackie', 'watermelon', 'orange', 'macho', 'melon', 'mango']\n"
     ]
    }
   ],
   "source": [
    "list5[1:3] = [\"blackie\"]\n",
    "print(list5)"
   ]
  },
  {
   "cell_type": "code",
   "execution_count": 15,
   "id": "b67ecf5e",
   "metadata": {},
   "outputs": [
    {
     "name": "stdout",
     "output_type": "stream",
     "text": [
      "['apple', 'blackie', 'quack', 'watermelon', 'orange', 'macho', 'melon', 'mango']\n"
     ]
    }
   ],
   "source": [
    "list5.insert(2, \"quack\")\n",
    "print(list5)"
   ]
  },
  {
   "cell_type": "markdown",
   "id": "11ca8ac9",
   "metadata": {},
   "source": [
    "###### Add List Items"
   ]
  },
  {
   "cell_type": "code",
   "execution_count": 16,
   "id": "dd75a00a",
   "metadata": {},
   "outputs": [
    {
     "name": "stdout",
     "output_type": "stream",
     "text": [
      "['apple', 'blackie', 'quack', 'watermelon', 'orange', 'macho', 'melon', 'mango', 'orange']\n"
     ]
    }
   ],
   "source": [
    "list5.append(\"orange\")\n",
    "print(list5)"
   ]
  },
  {
   "cell_type": "code",
   "execution_count": 17,
   "id": "eef14e1b",
   "metadata": {},
   "outputs": [
    {
     "name": "stdout",
     "output_type": "stream",
     "text": [
      "['apple', 'orange', 'blackie', 'quack', 'watermelon', 'orange', 'macho', 'melon', 'mango', 'orange']\n"
     ]
    }
   ],
   "source": [
    "list5.insert(1, \"orange\")\n",
    "print(list5)"
   ]
  },
  {
   "cell_type": "code",
   "execution_count": 18,
   "id": "6c9973d5",
   "metadata": {},
   "outputs": [
    {
     "name": "stdout",
     "output_type": "stream",
     "text": [
      "['apple', 'orange', 'blackie', 'quack', 'watermelon', 'orange', 'macho', 'melon', 'mango', 'orange', 'mango', 'pineapple', 'papaya']\n"
     ]
    }
   ],
   "source": [
    "tropical = [\"mango\", \"pineapple\", \"papaya\"]\n",
    "list5.extend(tropical)\n",
    "print(list5)"
   ]
  },
  {
   "cell_type": "code",
   "execution_count": 19,
   "id": "2a493b86",
   "metadata": {},
   "outputs": [
    {
     "name": "stdout",
     "output_type": "stream",
     "text": [
      "['apple', 'orange', 'blackie', 'quack', 'watermelon', 'orange', 'macho', 'melon', 'mango', 'orange', 'mango', 'pineapple', 'papaya', 'kiwi', 'orange']\n"
     ]
    }
   ],
   "source": [
    "thistuple = (\"kiwi\", \"orange\")\n",
    "list5.extend(thistuple)\n",
    "print(list5)"
   ]
  },
  {
   "cell_type": "code",
   "execution_count": 20,
   "id": "cf7984e9",
   "metadata": {},
   "outputs": [
    {
     "name": "stdout",
     "output_type": "stream",
     "text": [
      "['apple', 'blackie', 'quack', 'watermelon', 'orange', 'macho', 'melon', 'mango', 'orange', 'mango', 'pineapple', 'papaya', 'kiwi', 'orange']\n"
     ]
    }
   ],
   "source": [
    "list5.remove(\"orange\")\n",
    "print(list5)"
   ]
  },
  {
   "cell_type": "code",
   "execution_count": 21,
   "id": "c7c687ba",
   "metadata": {},
   "outputs": [
    {
     "name": "stdout",
     "output_type": "stream",
     "text": [
      "['apple', 'quack', 'watermelon', 'orange', 'macho', 'melon', 'mango', 'orange', 'mango', 'pineapple', 'papaya', 'kiwi', 'orange']\n"
     ]
    }
   ],
   "source": [
    "list5.pop(1)\n",
    "print(list5)"
   ]
  },
  {
   "cell_type": "code",
   "execution_count": 22,
   "id": "4f67f203",
   "metadata": {},
   "outputs": [
    {
     "name": "stdout",
     "output_type": "stream",
     "text": [
      "['apple', 'quack', 'watermelon', 'orange', 'macho', 'melon', 'mango', 'orange', 'mango', 'pineapple', 'papaya', 'kiwi']\n"
     ]
    }
   ],
   "source": [
    "list5.pop()\n",
    "print(list5) #removes the last item"
   ]
  },
  {
   "cell_type": "code",
   "execution_count": 23,
   "id": "557873bf",
   "metadata": {},
   "outputs": [
    {
     "name": "stdout",
     "output_type": "stream",
     "text": [
      "['quack', 'watermelon', 'orange', 'macho', 'melon', 'mango', 'orange', 'mango', 'pineapple', 'papaya', 'kiwi']\n"
     ]
    }
   ],
   "source": [
    "del list5[0]\n",
    "print(list5)"
   ]
  },
  {
   "cell_type": "code",
   "execution_count": 25,
   "id": "aa54ee08",
   "metadata": {},
   "outputs": [
    {
     "name": "stdout",
     "output_type": "stream",
     "text": [
      "['quack', 'watermelon', 'orange', 'macho', 'melon', 'mango', 'orange', 'mango', 'pineapple', 'papaya', 'kiwi']\n"
     ]
    }
   ],
   "source": [
    "list_copy = list5.copy()\n",
    "del list_copy\n",
    "#print(list_copy)\n",
    "print(list5)"
   ]
  },
  {
   "cell_type": "code",
   "execution_count": 26,
   "id": "bb3b08b9",
   "metadata": {},
   "outputs": [
    {
     "name": "stdout",
     "output_type": "stream",
     "text": [
      "[]\n",
      "['quack', 'watermelon', 'orange', 'macho', 'melon', 'mango', 'orange', 'mango', 'pineapple', 'papaya', 'kiwi']\n"
     ]
    }
   ],
   "source": [
    "list_copy = list5.copy()\n",
    "list_copy.clear()\n",
    "print(list_copy)\n",
    "print(list5)"
   ]
  },
  {
   "cell_type": "markdown",
   "id": "0965a926",
   "metadata": {},
   "source": [
    "###### Loop List"
   ]
  },
  {
   "cell_type": "code",
   "execution_count": 27,
   "id": "6feb6255",
   "metadata": {},
   "outputs": [
    {
     "name": "stdout",
     "output_type": "stream",
     "text": [
      "apple\n",
      "banana\n",
      "cherry\n"
     ]
    }
   ],
   "source": [
    "thislist = [\"apple\", \"banana\", \"cherry\"] # Loop Through a List\n",
    "for x in thislist: \n",
    "    print(x)"
   ]
  },
  {
   "cell_type": "code",
   "execution_count": 28,
   "id": "8c785d72",
   "metadata": {},
   "outputs": [
    {
     "name": "stdout",
     "output_type": "stream",
     "text": [
      "apple\n",
      "banana\n",
      "cherry\n"
     ]
    }
   ],
   "source": [
    "thislist = [\"apple\", \"banana\", \"cherry\"] # Loop Through the Index Numbers\n",
    "for i in range(len(thislist)):\n",
    "    print(thislist[i])"
   ]
  },
  {
   "cell_type": "code",
   "execution_count": 29,
   "id": "84ed1e44",
   "metadata": {},
   "outputs": [
    {
     "name": "stdout",
     "output_type": "stream",
     "text": [
      "apple\n",
      "banana\n",
      "cherry\n"
     ]
    }
   ],
   "source": [
    "thislist = [\"apple\", \"banana\", \"cherry\"] # Using a While Loop\n",
    "i = 0\n",
    "while i < len(thislist):\n",
    "    print(thislist[i])\n",
    "    i = i + 1"
   ]
  },
  {
   "cell_type": "code",
   "execution_count": 30,
   "id": "504f4fc5",
   "metadata": {},
   "outputs": [
    {
     "name": "stdout",
     "output_type": "stream",
     "text": [
      "apple\n",
      "banana\n",
      "cherry\n"
     ]
    },
    {
     "data": {
      "text/plain": [
       "[None, None, None]"
      ]
     },
     "execution_count": 30,
     "metadata": {},
     "output_type": "execute_result"
    }
   ],
   "source": [
    "thislist = [\"apple\", \"banana\", \"cherry\"] # Looping Using List Comprehension\n",
    "[print(x) for x in thislist]"
   ]
  },
  {
   "cell_type": "markdown",
   "id": "e6ff96cf",
   "metadata": {},
   "source": [
    "###### List Comprehension"
   ]
  },
  {
   "cell_type": "code",
   "execution_count": 31,
   "id": "07be5053",
   "metadata": {},
   "outputs": [
    {
     "name": "stdout",
     "output_type": "stream",
     "text": [
      "['apple', 'banana', 'mango']\n"
     ]
    }
   ],
   "source": [
    "fruits = [\"apple\", \"banana\", \"cherry\", \"kiwi\", \"mango\"]\n",
    "newlist = []\n",
    "\n",
    "for x in fruits:\n",
    "    if \"a\" in x:\n",
    "        newlist.append(x)\n",
    "\n",
    "print(newlist)"
   ]
  },
  {
   "cell_type": "code",
   "execution_count": 32,
   "id": "c5c03476",
   "metadata": {},
   "outputs": [
    {
     "name": "stdout",
     "output_type": "stream",
     "text": [
      "['apple', 'banana', 'mango']\n"
     ]
    }
   ],
   "source": [
    "fruits = [\"apple\", \"banana\", \"cherry\", \"kiwi\", \"mango\"]\n",
    "\n",
    "newlist = [x for x in fruits if \"a\" in x]\n",
    "\n",
    "print(newlist)"
   ]
  },
  {
   "cell_type": "markdown",
   "id": "bde03f3f",
   "metadata": {},
   "source": [
    "##### Syntax"
   ]
  },
  {
   "cell_type": "markdown",
   "id": "1ffb8f3a",
   "metadata": {},
   "source": [
    " newlist = [expression **for** item **in** iterable **if** condition == **True**]"
   ]
  },
  {
   "cell_type": "code",
   "execution_count": 33,
   "id": "6f16828e",
   "metadata": {},
   "outputs": [
    {
     "name": "stdout",
     "output_type": "stream",
     "text": [
      "['banana', 'cherry', 'kiwi', 'mango']\n"
     ]
    }
   ],
   "source": [
    "newlist = [x for x in fruits if x != \"apple\"]\n",
    "print(newlist)"
   ]
  },
  {
   "cell_type": "code",
   "execution_count": 34,
   "id": "7a909531",
   "metadata": {},
   "outputs": [
    {
     "name": "stdout",
     "output_type": "stream",
     "text": [
      "['apple', 'banana', 'cherry', 'kiwi', 'mango']\n"
     ]
    }
   ],
   "source": [
    "newlist = [x for x in fruits]\n",
    "print(newlist)"
   ]
  },
  {
   "cell_type": "markdown",
   "id": "a01412c5",
   "metadata": {},
   "source": [
    "##### Iterable"
   ]
  },
  {
   "cell_type": "code",
   "execution_count": 35,
   "id": "cbab7994",
   "metadata": {},
   "outputs": [
    {
     "name": "stdout",
     "output_type": "stream",
     "text": [
      "[0, 1, 2, 3, 4, 5, 6, 7, 8, 9]\n"
     ]
    }
   ],
   "source": [
    "newlist = [x for x in range(10)]\n",
    "print(newlist)"
   ]
  },
  {
   "cell_type": "code",
   "execution_count": 36,
   "id": "d1d34acc",
   "metadata": {},
   "outputs": [
    {
     "name": "stdout",
     "output_type": "stream",
     "text": [
      "[0, 1, 2, 3, 4]\n"
     ]
    }
   ],
   "source": [
    "newlist = [x for x in range(10) if x < 5]\n",
    "print(newlist)"
   ]
  },
  {
   "cell_type": "markdown",
   "id": "71b13052",
   "metadata": {},
   "source": [
    "##### Expression"
   ]
  },
  {
   "cell_type": "code",
   "execution_count": 37,
   "id": "2d9e5fa1",
   "metadata": {},
   "outputs": [
    {
     "name": "stdout",
     "output_type": "stream",
     "text": [
      "['APPLE', 'BANANA', 'CHERRY', 'KIWI', 'MANGO']\n"
     ]
    }
   ],
   "source": [
    "newlist = [x.upper() for x in fruits]\n",
    "print(newlist)"
   ]
  },
  {
   "cell_type": "code",
   "execution_count": 38,
   "id": "f3963dbb",
   "metadata": {},
   "outputs": [
    {
     "name": "stdout",
     "output_type": "stream",
     "text": [
      "['hello', 'hello', 'hello', 'hello', 'hello']\n"
     ]
    }
   ],
   "source": [
    "newlist = ['hello' for x in fruits] # settings all values to hello in list\n",
    "print(newlist)"
   ]
  },
  {
   "cell_type": "code",
   "execution_count": 39,
   "id": "bb79d2fe",
   "metadata": {},
   "outputs": [
    {
     "name": "stdout",
     "output_type": "stream",
     "text": [
      "['apple', 'orange', 'cherry', 'kiwi', 'mango']\n"
     ]
    }
   ],
   "source": [
    "newlist = [x if x != \"banana\" else \"orange\" for x in fruits] # Return \"orange\" instead of \"banana\"\n",
    "print(newlist)\n",
    "# \"Return the item if it is not banana, if it is banana return orange\""
   ]
  },
  {
   "cell_type": "markdown",
   "id": "c39884f8",
   "metadata": {},
   "source": [
    "##### Sort Lists"
   ]
  },
  {
   "cell_type": "code",
   "execution_count": 40,
   "id": "b78f43bd",
   "metadata": {},
   "outputs": [
    {
     "name": "stdout",
     "output_type": "stream",
     "text": [
      "['banana', 'kiwi', 'mango', 'orange', 'pineapple']\n"
     ]
    }
   ],
   "source": [
    "thislist = [\"orange\", \"mango\", \"kiwi\", \"pineapple\", \"banana\"]\n",
    "thislist.sort() \n",
    "print(thislist)\n",
    "# sort() method that will sort the list alphanumerically, ascending, by default"
   ]
  },
  {
   "cell_type": "code",
   "execution_count": 41,
   "id": "f3b12b4d",
   "metadata": {},
   "outputs": [
    {
     "name": "stdout",
     "output_type": "stream",
     "text": [
      "[23, 50, 65, 82, 100]\n"
     ]
    }
   ],
   "source": [
    "thislist = [100, 50, 65, 82, 23]\n",
    "thislist.sort()\n",
    "print(thislist)"
   ]
  },
  {
   "cell_type": "markdown",
   "id": "3c9793c6",
   "metadata": {},
   "source": [
    "###### Sort descending"
   ]
  },
  {
   "cell_type": "code",
   "execution_count": 42,
   "id": "323b4ffe",
   "metadata": {},
   "outputs": [
    {
     "name": "stdout",
     "output_type": "stream",
     "text": [
      "['pineapple', 'orange', 'mango', 'kiwi', 'banana']\n"
     ]
    }
   ],
   "source": [
    "thislist = [\"orange\", \"mango\", \"kiwi\", \"pineapple\", \"banana\"]\n",
    "thislist.sort(reverse = True)\n",
    "print(thislist)"
   ]
  },
  {
   "cell_type": "code",
   "execution_count": 43,
   "id": "d5281e8b",
   "metadata": {},
   "outputs": [
    {
     "name": "stdout",
     "output_type": "stream",
     "text": [
      "[100, 82, 65, 50, 23]\n"
     ]
    }
   ],
   "source": [
    "thislist = [100, 50, 65, 82, 23]\n",
    "thislist.sort(reverse = True)\n",
    "print(thislist)"
   ]
  },
  {
   "cell_type": "markdown",
   "id": "1930cce6",
   "metadata": {},
   "source": [
    "###### Customize sort Function"
   ]
  },
  {
   "cell_type": "code",
   "execution_count": 44,
   "id": "d09def74",
   "metadata": {},
   "outputs": [
    {
     "name": "stdout",
     "output_type": "stream",
     "text": [
      "[50, 65, 23, 82, 100]\n"
     ]
    }
   ],
   "source": [
    "def myfunc(n):\n",
    "    return abs(n - 50)\n",
    "\n",
    "thislist = [100, 50, 65, 82, 23]\n",
    "thislist.sort(key = myfunc)\n",
    "print(thislist)"
   ]
  },
  {
   "cell_type": "markdown",
   "id": "57d6926d",
   "metadata": {},
   "source": [
    "###### Case Insensitive Sort"
   ]
  },
  {
   "cell_type": "code",
   "execution_count": 45,
   "id": "eebdd9b4",
   "metadata": {},
   "outputs": [
    {
     "name": "stdout",
     "output_type": "stream",
     "text": [
      "['Kiwi', 'Orange', 'banana', 'cherry']\n"
     ]
    }
   ],
   "source": [
    "thislist = [\"banana\", \"Orange\", \"Kiwi\", \"cherry\"]\n",
    "thislist.sort()\n",
    "print(thislist)"
   ]
  },
  {
   "cell_type": "code",
   "execution_count": 46,
   "id": "fcc2a345",
   "metadata": {},
   "outputs": [
    {
     "name": "stdout",
     "output_type": "stream",
     "text": [
      "['banana', 'cherry', 'Kiwi', 'Orange']\n"
     ]
    }
   ],
   "source": [
    "thislist = [\"banana\", \"Orange\", \"Kiwi\", \"cherry\"]\n",
    "thislist.sort(key = str.lower)\n",
    "print(thislist)"
   ]
  },
  {
   "cell_type": "markdown",
   "id": "6d19da6b",
   "metadata": {},
   "source": [
    "###### Reverse Order"
   ]
  },
  {
   "cell_type": "code",
   "execution_count": 47,
   "id": "ecd7bc79",
   "metadata": {},
   "outputs": [
    {
     "name": "stdout",
     "output_type": "stream",
     "text": [
      "['cherry', 'Kiwi', 'Orange', 'banana']\n"
     ]
    }
   ],
   "source": [
    "thislist = [\"banana\", \"Orange\", \"Kiwi\", \"cherry\"]\n",
    "thislist.reverse()\n",
    "print(thislist)"
   ]
  },
  {
   "cell_type": "markdown",
   "id": "58cbfbcf",
   "metadata": {},
   "source": [
    "###### copy list"
   ]
  },
  {
   "cell_type": "code",
   "execution_count": 48,
   "id": "38d4a290",
   "metadata": {},
   "outputs": [
    {
     "name": "stdout",
     "output_type": "stream",
     "text": [
      "['apple', 'banana', 'cherry']\n"
     ]
    }
   ],
   "source": [
    "thislist = [\"apple\", \"banana\", \"cherry\"]\n",
    "mylist = thislist.copy()\n",
    "print(mylist)"
   ]
  },
  {
   "cell_type": "code",
   "execution_count": 49,
   "id": "ee44cf50",
   "metadata": {},
   "outputs": [
    {
     "name": "stdout",
     "output_type": "stream",
     "text": [
      "['apple', 'banana', 'cherry']\n"
     ]
    }
   ],
   "source": [
    "thislist = [\"apple\", \"banana\", \"cherry\"]\n",
    "mylist = list(thislist)\n",
    "print(mylist)"
   ]
  },
  {
   "cell_type": "markdown",
   "id": "39aa3ec6",
   "metadata": {},
   "source": [
    "###### Join List"
   ]
  },
  {
   "cell_type": "code",
   "execution_count": 50,
   "id": "2870e394",
   "metadata": {},
   "outputs": [
    {
     "name": "stdout",
     "output_type": "stream",
     "text": [
      "['a', 'b', 'c', 1, 2, 3]\n"
     ]
    }
   ],
   "source": [
    "list1 = [\"a\", \"b\", \"c\"]\n",
    "list2 = [1, 2, 3]\n",
    "\n",
    "list3 = list1 + list2\n",
    "print(list3)"
   ]
  },
  {
   "cell_type": "code",
   "execution_count": 52,
   "id": "7f8467f5",
   "metadata": {},
   "outputs": [
    {
     "name": "stdout",
     "output_type": "stream",
     "text": [
      "['a', 'b', 'c', 1, 2, 3]\n"
     ]
    }
   ],
   "source": [
    "list1 = [\"a\", \"b\" , \"c\"]\n",
    "list2 = [1, 2, 3]\n",
    "\n",
    "for x in list2:\n",
    "    list1.append(x)\n",
    "\n",
    "print(list1)"
   ]
  },
  {
   "cell_type": "code",
   "execution_count": 53,
   "id": "9128fea9",
   "metadata": {},
   "outputs": [
    {
     "name": "stdout",
     "output_type": "stream",
     "text": [
      "['a', 'b', 'c', 1, 2, 3]\n"
     ]
    }
   ],
   "source": [
    "list1 = [\"a\", \"b\" , \"c\"]\n",
    "list2 = [1, 2, 3]\n",
    "\n",
    "list1.extend(list2)\n",
    "print(list1)"
   ]
  },
  {
   "cell_type": "markdown",
   "id": "48a3f7d0",
   "metadata": {},
   "source": [
    "##### List Method"
   ]
  },
  {
   "cell_type": "markdown",
   "id": "f1ddc545",
   "metadata": {},
   "source": [
    ">**append()**\tAdds an element at the end of the list\n",
    ">\n",
    ">**clear()**\tRemoves all the elements from the list\n",
    ">\n",
    ">**copy()**\tReturns a copy of the list\n",
    ">\n",
    ">**count()**\tReturns the number of elements with the specified value\n",
    ">\n",
    ">**extend()**\tAdd the elements of a list (or any iterable), to the end of the current list\n",
    ">\n",
    ">**index()**\tReturns the index of the first element with the specified value\n",
    ">\n",
    ">**insert()**\tAdds an element at the specified position\n",
    ">\n",
    ">**pop()**\tRemoves the element at the specified position\n",
    ">\n",
    ">**remove()**\tRemoves the item with the specified value\n",
    ">\n",
    ">**reverse()**\tReverses the order of the list\n",
    ">\n",
    ">**sort()**\tSorts the list"
   ]
  },
  {
   "cell_type": "markdown",
   "id": "69e0cda6",
   "metadata": {},
   "source": [
    "### Tuples"
   ]
  },
  {
   "cell_type": "markdown",
   "id": "4a6a3f81",
   "metadata": {},
   "source": [
    ">Tuples are used to store multiple items in a single variable.\n",
    "\n",
    ">A tuple is a collection which is **ordered**(*it means that the items have a defined order, and that order will not change*) and **unchangeable**(*meaning that we cannot change, add or remove items after the tuple has been created*) and allow **duplicate values**.\n",
    "\n",
    ">Tuples are written with round brackets."
   ]
  },
  {
   "cell_type": "code",
   "execution_count": 59,
   "id": "b5628938",
   "metadata": {},
   "outputs": [
    {
     "name": "stdout",
     "output_type": "stream",
     "text": [
      "('apple', 'banana', 'cherry', 'apple', 'cherry')\n",
      "5\n"
     ]
    }
   ],
   "source": [
    "thistuple = (\"apple\", \"banana\", \"cherry\", \"apple\", \"cherry\")\n",
    "print(thistuple)\n",
    "print(len(thistuple))"
   ]
  },
  {
   "cell_type": "code",
   "execution_count": 60,
   "id": "deacb331",
   "metadata": {},
   "outputs": [
    {
     "name": "stdout",
     "output_type": "stream",
     "text": [
      "<class 'tuple'>\n",
      "<class 'str'>\n"
     ]
    }
   ],
   "source": [
    "thistuple = (\"apple\",)\n",
    "print(type(thistuple))\n",
    "\n",
    "#NOT a tuple\n",
    "thistuple = (\"apple\")\n",
    "print(type(thistuple))"
   ]
  },
  {
   "cell_type": "code",
   "execution_count": 64,
   "id": "1c9ee612",
   "metadata": {},
   "outputs": [
    {
     "name": "stdout",
     "output_type": "stream",
     "text": [
      "<class 'tuple'>\n"
     ]
    }
   ],
   "source": [
    "tuple1 = (\"apple\", \"banana\", \"cherry\")\n",
    "tuple2 = (1, 5, 7, 9, 3)\n",
    "tuple3 = (True, False, False)\n",
    "tuple4 = (\"abc\", 34, True, 40, \"male\")\n",
    "print(type(tuple4))"
   ]
  },
  {
   "cell_type": "code",
   "execution_count": 65,
   "id": "acb6c4e6",
   "metadata": {},
   "outputs": [
    {
     "name": "stdout",
     "output_type": "stream",
     "text": [
      "('apple', 'banana', 'cherry')\n"
     ]
    }
   ],
   "source": [
    "thistuple = tuple((\"apple\", \"banana\", \"cherry\")) # note the double round-brackets\n",
    "print(thistuple)"
   ]
  },
  {
   "cell_type": "markdown",
   "id": "1f0da46c",
   "metadata": {},
   "source": [
    "##### Access Tuple Items"
   ]
  },
  {
   "cell_type": "code",
   "execution_count": 75,
   "id": "e4574f1d",
   "metadata": {},
   "outputs": [
    {
     "name": "stdout",
     "output_type": "stream",
     "text": [
      "banana\n",
      "mango\n",
      "('cherry', 'orange', 'kiwi')\n",
      "('apple', 'banana', 'cherry', 'orange')\n",
      "('cherry', 'orange', 'kiwi', 'melon', 'mango')\n",
      "('orange', 'kiwi', 'melon')\n",
      "Yes, 'apple' is in the fruits tuple\n"
     ]
    }
   ],
   "source": [
    "thistuple = (\"apple\", \"banana\", \"cherry\", \"orange\", \"kiwi\", \"melon\", \"mango\")\n",
    "print(thistuple[1])\n",
    "print(thistuple[-1])\n",
    "print(thistuple[2:5])\n",
    "print(thistuple[:4])\n",
    "print(thistuple[2:])\n",
    "print(thistuple[-4:-1])\n",
    "\n",
    "\n",
    "if \"apple\" in thistuple:\n",
    "    print(\"Yes, 'apple' is in the fruits tuple\")"
   ]
  },
  {
   "cell_type": "markdown",
   "id": "193fb91e",
   "metadata": {},
   "source": [
    "##### Update Tuples"
   ]
  },
  {
   "cell_type": "markdown",
   "id": "a31543d4",
   "metadata": {},
   "source": [
    "###### Change Tuple Values"
   ]
  },
  {
   "cell_type": "code",
   "execution_count": 76,
   "id": "0c1ea4f6",
   "metadata": {},
   "outputs": [
    {
     "name": "stdout",
     "output_type": "stream",
     "text": [
      "('apple', 'kiwi', 'cherry')\n"
     ]
    }
   ],
   "source": [
    "x = (\"apple\", \"banana\", \"cherry\")\n",
    "y = list(x)\n",
    "y[1] = \"kiwi\"\n",
    "x = tuple(y)\n",
    "\n",
    "print(x)"
   ]
  },
  {
   "cell_type": "markdown",
   "id": "96802dc7",
   "metadata": {},
   "source": [
    "###### Add Items"
   ]
  },
  {
   "cell_type": "code",
   "execution_count": 78,
   "id": "f3f966dc",
   "metadata": {},
   "outputs": [
    {
     "name": "stdout",
     "output_type": "stream",
     "text": [
      "('apple', 'banana', 'cherry', 'orange')\n"
     ]
    }
   ],
   "source": [
    "thistuple = (\"apple\", \"banana\", \"cherry\")\n",
    "y = list(thistuple)\n",
    "y.append(\"orange\")\n",
    "thistuple = tuple(y)\n",
    "print(thistuple)"
   ]
  },
  {
   "cell_type": "code",
   "execution_count": 79,
   "id": "ad56b64d",
   "metadata": {},
   "outputs": [
    {
     "name": "stdout",
     "output_type": "stream",
     "text": [
      "('apple', 'banana', 'cherry', 'orange')\n"
     ]
    }
   ],
   "source": [
    "thistuple = (\"apple\", \"banana\", \"cherry\")\n",
    "y = (\"orange\",)\n",
    "thistuple += y\n",
    "\n",
    "print(thistuple)"
   ]
  },
  {
   "cell_type": "markdown",
   "id": "e711c67f",
   "metadata": {},
   "source": [
    "##### Remove Items"
   ]
  },
  {
   "cell_type": "code",
   "execution_count": 82,
   "id": "7d1f9aa2",
   "metadata": {},
   "outputs": [
    {
     "name": "stdout",
     "output_type": "stream",
     "text": [
      "('banana', 'cherry')\n"
     ]
    }
   ],
   "source": [
    "thistuple = (\"apple\", \"banana\", \"cherry\")\n",
    "y = list(thistuple)\n",
    "y.remove(\"apple\")\n",
    "thistuple = tuple(y)\n",
    "print(thistuple)\n"
   ]
  },
  {
   "cell_type": "code",
   "execution_count": 84,
   "id": "56acf81d",
   "metadata": {},
   "outputs": [
    {
     "ename": "NameError",
     "evalue": "name 'thistuple' is not defined",
     "output_type": "error",
     "traceback": [
      "\u001b[1;31m---------------------------------------------------------------------------\u001b[0m",
      "\u001b[1;31mNameError\u001b[0m                                 Traceback (most recent call last)",
      "\u001b[1;32m~\\AppData\\Local\\Temp/ipykernel_10764/1828026926.py\u001b[0m in \u001b[0;36m<module>\u001b[1;34m\u001b[0m\n\u001b[0;32m      1\u001b[0m \u001b[0mthistuple\u001b[0m \u001b[1;33m=\u001b[0m \u001b[1;33m(\u001b[0m\u001b[1;34m\"apple\"\u001b[0m\u001b[1;33m,\u001b[0m \u001b[1;34m\"banana\"\u001b[0m\u001b[1;33m,\u001b[0m \u001b[1;34m\"cherry\"\u001b[0m\u001b[1;33m)\u001b[0m\u001b[1;33m\u001b[0m\u001b[1;33m\u001b[0m\u001b[0m\n\u001b[0;32m      2\u001b[0m \u001b[1;32mdel\u001b[0m \u001b[0mthistuple\u001b[0m\u001b[1;33m\u001b[0m\u001b[1;33m\u001b[0m\u001b[0m\n\u001b[1;32m----> 3\u001b[1;33m \u001b[0mprint\u001b[0m\u001b[1;33m(\u001b[0m\u001b[0mthistuple\u001b[0m\u001b[1;33m)\u001b[0m \u001b[1;31m#this will raise an error because the tuple no longer exists\u001b[0m\u001b[1;33m\u001b[0m\u001b[1;33m\u001b[0m\u001b[0m\n\u001b[0m",
      "\u001b[1;31mNameError\u001b[0m: name 'thistuple' is not defined"
     ]
    }
   ],
   "source": [
    "thistuple = (\"apple\", \"banana\", \"cherry\")\n",
    "del thistuple\n",
    "print(thistuple) #this will raise an error because the tuple no longer exists"
   ]
  },
  {
   "cell_type": "markdown",
   "id": "022ed2b6",
   "metadata": {},
   "source": [
    "###### Unpack Tuples"
   ]
  },
  {
   "cell_type": "code",
   "execution_count": 85,
   "id": "1428b41b",
   "metadata": {},
   "outputs": [
    {
     "name": "stdout",
     "output_type": "stream",
     "text": [
      "apple\n",
      "banana\n",
      "cherry\n"
     ]
    }
   ],
   "source": [
    "fruits = (\"apple\", \"banana\", \"cherry\")\n",
    "\n",
    "(green, yellow, red) = fruits\n",
    "\n",
    "print(green)\n",
    "print(yellow)\n",
    "print(red)"
   ]
  },
  {
   "cell_type": "code",
   "execution_count": 86,
   "id": "e900319e",
   "metadata": {},
   "outputs": [
    {
     "name": "stdout",
     "output_type": "stream",
     "text": [
      "apple\n",
      "banana\n",
      "['cherry', 'strawberry', 'raspberry']\n"
     ]
    }
   ],
   "source": [
    "fruits = (\"apple\", \"banana\", \"cherry\", \"strawberry\", \"raspberry\")\n",
    "\n",
    "(green, yellow, *red) = fruits\n",
    "\n",
    "print(green)\n",
    "print(yellow)\n",
    "print(red)"
   ]
  },
  {
   "cell_type": "code",
   "execution_count": 87,
   "id": "37d38d3a",
   "metadata": {},
   "outputs": [
    {
     "name": "stdout",
     "output_type": "stream",
     "text": [
      "apple\n",
      "['mango', 'papaya', 'pineapple']\n",
      "cherry\n"
     ]
    }
   ],
   "source": [
    "fruits = (\"apple\", \"mango\", \"papaya\", \"pineapple\", \"cherry\")\n",
    "\n",
    "(green, *tropic, red) = fruits\n",
    "\n",
    "print(green)\n",
    "print(tropic)\n",
    "print(red)"
   ]
  },
  {
   "cell_type": "markdown",
   "id": "4559ec9c",
   "metadata": {},
   "source": [
    "##### Loop"
   ]
  },
  {
   "cell_type": "code",
   "execution_count": 88,
   "id": "280148d5",
   "metadata": {},
   "outputs": [
    {
     "name": "stdout",
     "output_type": "stream",
     "text": [
      "apple\n",
      "banana\n",
      "cherry\n"
     ]
    }
   ],
   "source": [
    "thistuple = (\"apple\", \"banana\", \"cherry\")\n",
    "for x in thistuple:\n",
    "    print(x)"
   ]
  },
  {
   "cell_type": "markdown",
   "id": "42cf102e",
   "metadata": {},
   "source": [
    "##### Loop through Index"
   ]
  },
  {
   "cell_type": "code",
   "execution_count": 89,
   "id": "d45d385f",
   "metadata": {},
   "outputs": [
    {
     "name": "stdout",
     "output_type": "stream",
     "text": [
      "apple\n",
      "banana\n",
      "cherry\n"
     ]
    }
   ],
   "source": [
    "thistuple = (\"apple\", \"banana\", \"cherry\")\n",
    "for i in range(len(thistuple)):\n",
    "    print(thistuple[i])"
   ]
  },
  {
   "cell_type": "markdown",
   "id": "f456f736",
   "metadata": {},
   "source": [
    "##### While Loop"
   ]
  },
  {
   "cell_type": "code",
   "execution_count": 91,
   "id": "02105b85",
   "metadata": {},
   "outputs": [
    {
     "name": "stdout",
     "output_type": "stream",
     "text": [
      "apple\n",
      "banana\n",
      "cherry\n"
     ]
    }
   ],
   "source": [
    "thistuple = (\"apple\", \"banana\", \"cherry\")\n",
    "i = 0\n",
    "while i < len(thistuple):\n",
    "    print(thistuple[i])\n",
    "    i = i + 1"
   ]
  },
  {
   "cell_type": "markdown",
   "id": "d114942b",
   "metadata": {},
   "source": [
    "##### Join Tuples"
   ]
  },
  {
   "cell_type": "code",
   "execution_count": 92,
   "id": "12626608",
   "metadata": {},
   "outputs": [
    {
     "name": "stdout",
     "output_type": "stream",
     "text": [
      "('a', 'b', 'c', 1, 2, 3)\n"
     ]
    }
   ],
   "source": [
    "tuple1 = (\"a\", \"b\" , \"c\")\n",
    "tuple2 = (1, 2, 3)\n",
    "\n",
    "tuple3 = tuple1 + tuple2\n",
    "print(tuple3)"
   ]
  },
  {
   "cell_type": "markdown",
   "id": "d273d21a",
   "metadata": {},
   "source": [
    "###### Multiply Tuples"
   ]
  },
  {
   "cell_type": "code",
   "execution_count": 93,
   "id": "e278b534",
   "metadata": {},
   "outputs": [
    {
     "name": "stdout",
     "output_type": "stream",
     "text": [
      "('apple', 'banana', 'cherry', 'apple', 'banana', 'cherry')\n"
     ]
    }
   ],
   "source": [
    "fruits = (\"apple\", \"banana\", \"cherry\")\n",
    "mytuple = fruits * 2\n",
    "\n",
    "print(mytuple)"
   ]
  },
  {
   "cell_type": "markdown",
   "id": "b8a389ac",
   "metadata": {},
   "source": [
    "###### Tuple Methods"
   ]
  },
  {
   "cell_type": "markdown",
   "id": "188dc45e",
   "metadata": {},
   "source": [
    ">**count()**\tReturns the number of times a specified value occurs in a tuple\n",
    ">\n",
    ">**index()**\tSearches the tuple for a specified value and returns the position of where it was found"
   ]
  },
  {
   "cell_type": "markdown",
   "id": "d6ad52fc",
   "metadata": {},
   "source": []
  },
  {
   "cell_type": "code",
   "execution_count": null,
   "id": "456a947c",
   "metadata": {},
   "outputs": [],
   "source": []
  },
  {
   "cell_type": "code",
   "execution_count": null,
   "id": "06581e84",
   "metadata": {},
   "outputs": [],
   "source": []
  }
 ],
 "metadata": {
  "kernelspec": {
   "display_name": "Python 3 (ipykernel)",
   "language": "python",
   "name": "python3"
  },
  "language_info": {
   "codemirror_mode": {
    "name": "ipython",
    "version": 3
   },
   "file_extension": ".py",
   "mimetype": "text/x-python",
   "name": "python",
   "nbconvert_exporter": "python",
   "pygments_lexer": "ipython3",
   "version": "3.9.7"
  }
 },
 "nbformat": 4,
 "nbformat_minor": 5
}
