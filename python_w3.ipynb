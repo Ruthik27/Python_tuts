{
 "cells": [
  {
   "cell_type": "markdown",
   "id": "9d081f32",
   "metadata": {},
   "source": [
    "#### print  anything"
   ]
  },
  {
   "cell_type": "code",
   "execution_count": 1,
   "id": "b6e57033",
   "metadata": {},
   "outputs": [
    {
     "name": "stdout",
     "output_type": "stream",
     "text": [
      "hello world\n"
     ]
    }
   ],
   "source": [
    "print(\"hello world\")"
   ]
  },
  {
   "cell_type": "markdown",
   "id": "f9ef22b1",
   "metadata": {},
   "source": [
    "#### IF ElSE + comment"
   ]
  },
  {
   "cell_type": "code",
   "execution_count": 11,
   "id": "c7077e27",
   "metadata": {},
   "outputs": [
    {
     "name": "stdout",
     "output_type": "stream",
     "text": [
      "20 is big\n"
     ]
    }
   ],
   "source": [
    "if 5> 20:\n",
    "    print(\"5 is big\")\n",
    "else: #comment it is\n",
    "    print(\"20 is big\")"
   ]
  },
  {
   "cell_type": "markdown",
   "id": "bef1bfe4",
   "metadata": {},
   "source": [
    "### VARIABLES"
   ]
  },
  {
   "cell_type": "markdown",
   "id": "414c957a",
   "metadata": {},
   "source": [
    "##### Know the type of a Variable  + Change the type"
   ]
  },
  {
   "cell_type": "code",
   "execution_count": 35,
   "id": "aa57c71b",
   "metadata": {},
   "outputs": [
    {
     "name": "stdout",
     "output_type": "stream",
     "text": [
      "4\n",
      "4\n",
      "4\n",
      "<class 'str'>\n"
     ]
    }
   ],
   "source": [
    "x = 4 # here x is a variable\n",
    "print(x)\n",
    "y = \"4\"\n",
    "print(y)\n",
    "#x = \"john\"\n",
    "print(x)\n",
    "x = str(x)\n",
    "print(type(x)) #TO FIND VARIABLE TYPE"
   ]
  },
  {
   "cell_type": "markdown",
   "id": "19dbf131",
   "metadata": {},
   "source": [
    "##### types to write a vairable name"
   ]
  },
  {
   "cell_type": "code",
   "execution_count": 36,
   "id": "02e97091",
   "metadata": {},
   "outputs": [],
   "source": [
    "myVariableName = \"Camel Case\"\n",
    "MyVariableName = \"Pascal Case\"\n",
    "my_variable_name = \"Snake Case\""
   ]
  },
  {
   "cell_type": "markdown",
   "id": "51178511",
   "metadata": {},
   "source": [
    "##### assign multiple values"
   ]
  },
  {
   "cell_type": "code",
   "execution_count": 37,
   "id": "0a65a209",
   "metadata": {},
   "outputs": [
    {
     "name": "stdout",
     "output_type": "stream",
     "text": [
      "Orange\n",
      "Banana\n",
      "Cherry\n"
     ]
    }
   ],
   "source": [
    "x, y, z = \"Orange\", \"Banana\", \"Cherry\"\n",
    "print(x)\n",
    "print(y)\n",
    "print(z)"
   ]
  },
  {
   "cell_type": "markdown",
   "id": "15f94d8a",
   "metadata": {},
   "source": [
    "##### one value -> multiple variable"
   ]
  },
  {
   "cell_type": "code",
   "execution_count": 38,
   "id": "0a5bdcb3",
   "metadata": {},
   "outputs": [
    {
     "name": "stdout",
     "output_type": "stream",
     "text": [
      "Orange\n",
      "Orange\n",
      "Orange\n"
     ]
    }
   ],
   "source": [
    "x = y = z = \"Orange\"\n",
    "print(x)\n",
    "print(y)\n",
    "print(z)"
   ]
  },
  {
   "cell_type": "markdown",
   "id": "f58eb09e",
   "metadata": {},
   "source": [
    "##### Collection"
   ]
  },
  {
   "cell_type": "code",
   "execution_count": 39,
   "id": "6683f3f6",
   "metadata": {},
   "outputs": [
    {
     "name": "stdout",
     "output_type": "stream",
     "text": [
      "apple\n",
      "banana\n",
      "cherry\n"
     ]
    }
   ],
   "source": [
    "fruits = [\"apple\", \"banana\", \"cherry\"]\n",
    "x, y, z = fruits\n",
    "print(x)\n",
    "print(y)\n",
    "print(z)"
   ]
  },
  {
   "cell_type": "markdown",
   "id": "df321160",
   "metadata": {},
   "source": [
    "##### Combining variables"
   ]
  },
  {
   "cell_type": "code",
   "execution_count": 47,
   "id": "c0f2db9b",
   "metadata": {},
   "outputs": [
    {
     "name": "stdout",
     "output_type": "stream",
     "text": [
      "Python is BANG bang\n"
     ]
    }
   ],
   "source": [
    "x = \"BANG\"\n",
    "y = \"bang\"\n",
    "print(\"Python is \" + x +\" \"+ y)"
   ]
  },
  {
   "cell_type": "markdown",
   "id": "0ec5dc6a",
   "metadata": {},
   "source": [
    "##### Global variables"
   ]
  },
  {
   "cell_type": "code",
   "execution_count": 52,
   "id": "d159484e",
   "metadata": {},
   "outputs": [
    {
     "name": "stdout",
     "output_type": "stream",
     "text": [
      "Python is fantastic\n",
      "Python is awesome\n"
     ]
    }
   ],
   "source": [
    "x = \"awesome\" # global\n",
    "\n",
    "def myfunc():\n",
    "    x = \"fantastic\" # local\n",
    "    print(\"Python is \" + x)\n",
    "\n",
    "myfunc()\n",
    "\n",
    "print(\"Python is \" + x)"
   ]
  },
  {
   "cell_type": "code",
   "execution_count": 1,
   "id": "5b111311",
   "metadata": {},
   "outputs": [
    {
     "name": "stdout",
     "output_type": "stream",
     "text": [
      "Python is awesome\n",
      "Python is fantastic\n",
      "Python is cool\n",
      "Python is fantastic\n"
     ]
    }
   ],
   "source": [
    "x = \"awesome\" # global\n",
    "print(\"Python is \" + x)\n",
    "\n",
    "def myfunc():\n",
    "    y = \"cool\" # local\n",
    "    global x\n",
    "    x = \"fantastic\" #global inside funct\n",
    "    print(\"Python is \" + x)\n",
    "    print(\"Python is \" + y)\n",
    "myfunc()\n",
    "print(\"Python is \" + x)"
   ]
  },
  {
   "cell_type": "markdown",
   "id": "886a7d2e",
   "metadata": {},
   "source": [
    "\n",
    "#### data types"
   ]
  },
  {
   "cell_type": "code",
   "execution_count": 2,
   "id": "42f0eb01",
   "metadata": {},
   "outputs": [],
   "source": [
    "# Text Type:str\n",
    "# Numeric Types:int, float, complex\n",
    "# Sequence Types:list, tuple, range\n",
    "# Mapping Type:dict\n",
    "# Set Types:set, frozenset\n",
    "# Boolean Type:bool\n",
    "# Binary Types:bytes, bytearray, memoryview"
   ]
  },
  {
   "cell_type": "markdown",
   "id": "576baf66",
   "metadata": {},
   "source": [
    "###### setting data type"
   ]
  },
  {
   "cell_type": "code",
   "execution_count": 8,
   "id": "ac5f5d54",
   "metadata": {},
   "outputs": [
    {
     "name": "stdout",
     "output_type": "stream",
     "text": [
      "Hello World\n",
      "<class 'str'>\n",
      "20\n",
      "<class 'int'>\n",
      "20.5\n",
      "<class 'float'>\n",
      "1j\n",
      "<class 'complex'>\n",
      "['apple', 'banana', 'cherry']\n",
      "<class 'list'>\n",
      "('apple', 'banana', 'cherry')\n",
      "<class 'tuple'>\n",
      "range(0, 6)\n",
      "<class 'range'>\n",
      "{'name': 'John', 'age': 36}\n",
      "<class 'dict'>\n",
      "{'banana', 'apple', 'cherry'}\n",
      "<class 'set'>\n",
      "frozenset({'banana', 'apple', 'cherry'})\n",
      "<class 'frozenset'>\n",
      "True\n",
      "<class 'bool'>\n",
      "b'Hello'\n",
      "<class 'bytes'>\n",
      "bytearray(b'\\x00\\x00\\x00\\x00\\x00')\n",
      "<class 'bytearray'>\n",
      "<memory at 0x000001BCB59D5280>\n",
      "<class 'memoryview'>\n"
     ]
    }
   ],
   "source": [
    "a = \"Hello World\"\n",
    "print(a)\n",
    "print(type(a))\n",
    "\n",
    "b = 20\n",
    "print(b)\n",
    "print(type(b))\n",
    "\n",
    "c = 20.5\n",
    "print(c)\n",
    "print(type(c))\n",
    "\n",
    "d = 1j\n",
    "print(d)\n",
    "print(type(d))\n",
    "\n",
    "e = [\"apple\", \"banana\", \"cherry\"]\n",
    "print(e)\n",
    "print(type(e))\n",
    "\n",
    "f = (\"apple\", \"banana\", \"cherry\")\n",
    "print(f)\n",
    "print(type(f))\n",
    "\n",
    "g = range(6)\n",
    "print(g)\n",
    "print(type(g))\n",
    "\n",
    "h = {\"name\" : \"John\", \"age\" : 36}\n",
    "print(h)\n",
    "print(type(h))\n",
    "\n",
    "i = {\"apple\", \"banana\", \"cherry\"}\n",
    "print(i)\n",
    "print(type(i))\n",
    "\n",
    "j = frozenset({\"apple\", \"banana\", \"cherry\"})\n",
    "print(j)\n",
    "print(type(j))\n",
    "\n",
    "k = True\n",
    "print(k)\n",
    "print(type(k))\n",
    "\n",
    "l = b\"Hello\"\n",
    "print(l)\n",
    "print(type(l))\n",
    "\n",
    "m = bytearray(5)\n",
    "print(m)\n",
    "print(type(m))\n",
    "\n",
    "n = memoryview(bytes(5))\n",
    "print(n)\n",
    "print(type(n))"
   ]
  },
  {
   "cell_type": "code",
   "execution_count": null,
   "id": "1c5a0014",
   "metadata": {},
   "outputs": [],
   "source": []
  }
 ],
 "metadata": {
  "kernelspec": {
   "display_name": "Python 3 (ipykernel)",
   "language": "python",
   "name": "python3"
  },
  "language_info": {
   "codemirror_mode": {
    "name": "ipython",
    "version": 3
   },
   "file_extension": ".py",
   "mimetype": "text/x-python",
   "name": "python",
   "nbconvert_exporter": "python",
   "pygments_lexer": "ipython3",
   "version": "3.9.7"
  }
 },
 "nbformat": 4,
 "nbformat_minor": 5
}
