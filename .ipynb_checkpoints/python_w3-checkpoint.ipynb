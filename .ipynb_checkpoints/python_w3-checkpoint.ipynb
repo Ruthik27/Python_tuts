{
 "cells": [
  {
   "cell_type": "markdown",
   "id": "9d081f32",
   "metadata": {},
   "source": [
    "#### print  anything"
   ]
  },
  {
   "cell_type": "code",
   "execution_count": 1,
   "id": "b6e57033",
   "metadata": {},
   "outputs": [
    {
     "name": "stdout",
     "output_type": "stream",
     "text": [
      "hello world\n"
     ]
    }
   ],
   "source": [
    "print(\"hello world\")"
   ]
  },
  {
   "cell_type": "markdown",
   "id": "f9ef22b1",
   "metadata": {},
   "source": [
    "#### IF ElSE + comment"
   ]
  },
  {
   "cell_type": "code",
   "execution_count": 11,
   "id": "c7077e27",
   "metadata": {},
   "outputs": [
    {
     "name": "stdout",
     "output_type": "stream",
     "text": [
      "20 is big\n"
     ]
    }
   ],
   "source": [
    "if 5> 20:\n",
    "    print(\"5 is big\")\n",
    "else: #comment it is\n",
    "    print(\"20 is big\")"
   ]
  },
  {
   "cell_type": "markdown",
   "id": "bef1bfe4",
   "metadata": {},
   "source": [
    "### VARIABLES"
   ]
  },
  {
   "cell_type": "markdown",
   "id": "414c957a",
   "metadata": {},
   "source": [
    "##### Know the type of a Variable  + Change the type"
   ]
  },
  {
   "cell_type": "code",
   "execution_count": 35,
   "id": "aa57c71b",
   "metadata": {},
   "outputs": [
    {
     "name": "stdout",
     "output_type": "stream",
     "text": [
      "4\n",
      "4\n",
      "4\n",
      "<class 'str'>\n"
     ]
    }
   ],
   "source": [
    "x = 4 # here x is a variable\n",
    "print(x)\n",
    "y = \"4\"\n",
    "print(y)\n",
    "#x = \"john\"\n",
    "print(x)\n",
    "x = str(x)\n",
    "print(type(x)) #TO FIND VARIABLE TYPE"
   ]
  },
  {
   "cell_type": "markdown",
   "id": "19dbf131",
   "metadata": {},
   "source": [
    "##### types to write a vairable name"
   ]
  },
  {
   "cell_type": "code",
   "execution_count": 36,
   "id": "02e97091",
   "metadata": {},
   "outputs": [],
   "source": [
    "myVariableName = \"Camel Case\"\n",
    "MyVariableName = \"Pascal Case\"\n",
    "my_variable_name = \"Snake Case\""
   ]
  },
  {
   "cell_type": "markdown",
   "id": "51178511",
   "metadata": {},
   "source": [
    "##### assign multiple values"
   ]
  },
  {
   "cell_type": "code",
   "execution_count": 37,
   "id": "0a65a209",
   "metadata": {},
   "outputs": [
    {
     "name": "stdout",
     "output_type": "stream",
     "text": [
      "Orange\n",
      "Banana\n",
      "Cherry\n"
     ]
    }
   ],
   "source": [
    "x, y, z = \"Orange\", \"Banana\", \"Cherry\"\n",
    "print(x)\n",
    "print(y)\n",
    "print(z)"
   ]
  },
  {
   "cell_type": "markdown",
   "id": "15f94d8a",
   "metadata": {},
   "source": [
    "##### one value -> multiple variable"
   ]
  },
  {
   "cell_type": "code",
   "execution_count": 38,
   "id": "0a5bdcb3",
   "metadata": {},
   "outputs": [
    {
     "name": "stdout",
     "output_type": "stream",
     "text": [
      "Orange\n",
      "Orange\n",
      "Orange\n"
     ]
    }
   ],
   "source": [
    "x = y = z = \"Orange\"\n",
    "print(x)\n",
    "print(y)\n",
    "print(z)"
   ]
  },
  {
   "cell_type": "markdown",
   "id": "f58eb09e",
   "metadata": {},
   "source": [
    "##### Collection"
   ]
  },
  {
   "cell_type": "code",
   "execution_count": 39,
   "id": "6683f3f6",
   "metadata": {},
   "outputs": [
    {
     "name": "stdout",
     "output_type": "stream",
     "text": [
      "apple\n",
      "banana\n",
      "cherry\n"
     ]
    }
   ],
   "source": [
    "fruits = [\"apple\", \"banana\", \"cherry\"]\n",
    "x, y, z = fruits\n",
    "print(x)\n",
    "print(y)\n",
    "print(z)"
   ]
  },
  {
   "cell_type": "markdown",
   "id": "df321160",
   "metadata": {},
   "source": [
    "##### Combining variables"
   ]
  },
  {
   "cell_type": "code",
   "execution_count": 47,
   "id": "c0f2db9b",
   "metadata": {},
   "outputs": [
    {
     "name": "stdout",
     "output_type": "stream",
     "text": [
      "Python is BANG bang\n"
     ]
    }
   ],
   "source": [
    "x = \"BANG\"\n",
    "y = \"bang\"\n",
    "print(\"Python is \" + x +\" \"+ y)"
   ]
  },
  {
   "cell_type": "markdown",
   "id": "0ec5dc6a",
   "metadata": {},
   "source": [
    "##### Global variables"
   ]
  },
  {
   "cell_type": "code",
   "execution_count": 52,
   "id": "d159484e",
   "metadata": {},
   "outputs": [
    {
     "name": "stdout",
     "output_type": "stream",
     "text": [
      "Python is fantastic\n",
      "Python is awesome\n"
     ]
    }
   ],
   "source": [
    "x = \"awesome\" # global\n",
    "\n",
    "def myfunc():\n",
    "    x = \"fantastic\" # local\n",
    "    print(\"Python is \" + x)\n",
    "\n",
    "myfunc()\n",
    "\n",
    "print(\"Python is \" + x)"
   ]
  },
  {
   "cell_type": "code",
   "execution_count": 1,
   "id": "5b111311",
   "metadata": {},
   "outputs": [
    {
     "name": "stdout",
     "output_type": "stream",
     "text": [
      "Python is awesome\n",
      "Python is fantastic\n",
      "Python is cool\n",
      "Python is fantastic\n"
     ]
    }
   ],
   "source": [
    "x = \"awesome\" # global\n",
    "print(\"Python is \" + x)\n",
    "\n",
    "def myfunc():\n",
    "    y = \"cool\" # local\n",
    "    global x\n",
    "    x = \"fantastic\" #global inside funct\n",
    "    print(\"Python is \" + x)\n",
    "    print(\"Python is \" + y)\n",
    "myfunc()\n",
    "print(\"Python is \" + x)"
   ]
  },
  {
   "cell_type": "markdown",
   "id": "886a7d2e",
   "metadata": {},
   "source": [
    "\n",
    "#### data types"
   ]
  },
  {
   "cell_type": "code",
   "execution_count": 2,
   "id": "42f0eb01",
   "metadata": {},
   "outputs": [],
   "source": [
    "# Text Type:str\n",
    "# Numeric Types:int, float, complex\n",
    "# Sequence Types:list, tuple, range\n",
    "# Mapping Type:dict\n",
    "# Set Types:set, frozenset\n",
    "# Boolean Type:bool\n",
    "# Binary Types:bytes, bytearray, memoryview"
   ]
  },
  {
   "cell_type": "markdown",
   "id": "576baf66",
   "metadata": {},
   "source": [
    "###### setting data type"
   ]
  },
  {
   "cell_type": "code",
   "execution_count": 9,
   "id": "ac5f5d54",
   "metadata": {},
   "outputs": [
    {
     "name": "stdout",
     "output_type": "stream",
     "text": [
      "Hello World\n",
      "<class 'str'>\n",
      "20\n",
      "<class 'int'>\n",
      "20.5\n",
      "<class 'float'>\n",
      "1j\n",
      "<class 'complex'>\n",
      "['apple', 'banana', 'cherry']\n",
      "<class 'list'>\n",
      "('apple', 'banana', 'cherry')\n",
      "<class 'tuple'>\n",
      "range(0, 6)\n",
      "<class 'range'>\n",
      "{'name': 'John', 'age': 36}\n",
      "<class 'dict'>\n",
      "{'cherry', 'apple', 'banana'}\n",
      "<class 'set'>\n",
      "frozenset({'cherry', 'apple', 'banana'})\n",
      "<class 'frozenset'>\n",
      "True\n",
      "<class 'bool'>\n",
      "b'Hello'\n",
      "<class 'bytes'>\n",
      "True\n",
      "bytearray(b'\\x00\\x00\\x00\\x00\\x00')\n",
      "<class 'bytearray'>\n",
      "<memory at 0x000001A7C1520DC0>\n",
      "<class 'memoryview'>\n"
     ]
    }
   ],
   "source": [
    "a = str(\"Hello World\")\n",
    "print(a)\n",
    "print(type(a))\n",
    "\n",
    "b = int(20)\n",
    "print(b)\n",
    "print(type(b))\n",
    "\n",
    "c = float(20.5)\n",
    "print(c)\n",
    "print(type(c))\n",
    "\n",
    "d = complex(1j)\n",
    "print(d)\n",
    "print(type(d))\n",
    "\n",
    "e = list((\"apple\", \"banana\", \"cherry\"))\n",
    "print(e)\n",
    "print(type(e))\n",
    "\n",
    "f = tuple((\"apple\", \"banana\", \"cherry\"))\n",
    "print(f)\n",
    "print(type(f))\n",
    "\n",
    "g = range(6)\n",
    "print(g)\n",
    "print(type(g))\n",
    "\n",
    "h = dict(name=\"John\", age=36)\n",
    "print(h)\n",
    "print(type(h))\n",
    "\n",
    "i = set((\"apple\", \"banana\", \"cherry\"))\n",
    "print(i)\n",
    "print(type(i))\n",
    "\n",
    "j = frozenset((\"apple\", \"banana\", \"cherry\"))\n",
    "print(j)\n",
    "print(type(j))\n",
    "\n",
    "k = True\n",
    "print(k)\n",
    "print(type(k))\n",
    "\n",
    "l = b\"Hello\"\n",
    "print(l)\n",
    "print(type(l))\n",
    "\n",
    "o = bool(5)\n",
    "print(o)\n",
    "\n",
    "m = bytearray(5)\n",
    "print(m)\n",
    "print(type(m))\n",
    "\n",
    "n = memoryview(bytes(5))\n",
    "print(n)\n",
    "print(type(n))"
   ]
  },
  {
   "cell_type": "markdown",
   "id": "ab0908ca",
   "metadata": {},
   "source": [
    "###### python numbers"
   ]
  },
  {
   "cell_type": "code",
   "execution_count": 16,
   "id": "c3433d0c",
   "metadata": {},
   "outputs": [
    {
     "name": "stdout",
     "output_type": "stream",
     "text": [
      "<class 'int'>\n",
      "<class 'float'>\n",
      "<class 'complex'>\n"
     ]
    }
   ],
   "source": [
    "x = 1\n",
    "y = 2.8\n",
    "z = 1j\n",
    "print(type(x))\n",
    "print(type(y))\n",
    "print(type(z))"
   ]
  },
  {
   "cell_type": "markdown",
   "id": "8172741b",
   "metadata": {},
   "source": [
    "###### convertion "
   ]
  },
  {
   "cell_type": "code",
   "execution_count": 17,
   "id": "9abda065",
   "metadata": {},
   "outputs": [
    {
     "name": "stdout",
     "output_type": "stream",
     "text": [
      "1.0\n",
      "2\n",
      "(1+0j)\n",
      "<class 'float'>\n",
      "<class 'int'>\n",
      "<class 'complex'>\n"
     ]
    }
   ],
   "source": [
    "x = 1    # int\n",
    "y = 2.8  # float\n",
    "z = 1j   # complex\n",
    "\n",
    "#convert from int to float:\n",
    "a = float(x)\n",
    "\n",
    "#convert from float to int:\n",
    "b = int(y)\n",
    "\n",
    "#convert from int to complex:\n",
    "c = complex(x)\n",
    "\n",
    "print(a)\n",
    "print(b)\n",
    "print(c)\n",
    "\n",
    "print(type(a))\n",
    "print(type(b))\n",
    "print(type(c))"
   ]
  },
  {
   "cell_type": "markdown",
   "id": "68e7a80e",
   "metadata": {},
   "source": [
    "###### random"
   ]
  },
  {
   "cell_type": "code",
   "execution_count": 19,
   "id": "60d13cc3",
   "metadata": {},
   "outputs": [
    {
     "name": "stdout",
     "output_type": "stream",
     "text": [
      "2\n"
     ]
    }
   ],
   "source": [
    "import random\n",
    "\n",
    "print(random.randrange(1, 10))"
   ]
  },
  {
   "cell_type": "markdown",
   "id": "90f37b57",
   "metadata": {},
   "source": [
    "###### specify"
   ]
  },
  {
   "cell_type": "code",
   "execution_count": 22,
   "id": "b78ee0c2",
   "metadata": {},
   "outputs": [
    {
     "name": "stdout",
     "output_type": "stream",
     "text": [
      "1\n",
      "2\n",
      "3\n"
     ]
    }
   ],
   "source": [
    "x = int(1)  \n",
    "y = int(2.8)\n",
    "z = int(\"3\")\n",
    "print(x)\n",
    "print(y)\n",
    "print(z)"
   ]
  },
  {
   "cell_type": "code",
   "execution_count": 23,
   "id": "c67026fb",
   "metadata": {},
   "outputs": [
    {
     "name": "stdout",
     "output_type": "stream",
     "text": [
      "1.0\n",
      "2.8\n",
      "3.0\n",
      "4.2\n"
     ]
    }
   ],
   "source": [
    "x = float(1)     \n",
    "y = float(2.8)   \n",
    "z = float(\"3\")   \n",
    "w = float(\"4.2\") \n",
    "print(x)\n",
    "print(y)\n",
    "print(z)\n",
    "print(w)"
   ]
  },
  {
   "cell_type": "code",
   "execution_count": 24,
   "id": "7fc484ce",
   "metadata": {},
   "outputs": [
    {
     "name": "stdout",
     "output_type": "stream",
     "text": [
      "s1\n",
      "2\n",
      "3.0\n"
     ]
    }
   ],
   "source": [
    "x = str(\"s1\") \n",
    "y = str(2)    \n",
    "z = str(3.0)\n",
    "print(x)\n",
    "print(y)\n",
    "print(z)"
   ]
  },
  {
   "cell_type": "markdown",
   "id": "e49229c1",
   "metadata": {},
   "source": []
  },
  {
   "cell_type": "code",
   "execution_count": 28,
   "id": "2d8cb9fa",
   "metadata": {},
   "outputs": [
    {
     "name": "stdout",
     "output_type": "stream",
     "text": [
      "Hello\n"
     ]
    }
   ],
   "source": [
    "a = \"Hello\"\n",
    "print(a)"
   ]
  },
  {
   "cell_type": "code",
   "execution_count": 32,
   "id": "5e43c5b0",
   "metadata": {},
   "outputs": [
    {
     "name": "stdout",
     "output_type": "stream",
     "text": [
      "e\n"
     ]
    }
   ],
   "source": [
    "a = \"Hello, World!\"\n",
    "print(a[1])"
   ]
  },
  {
   "cell_type": "code",
   "execution_count": 34,
   "id": "b23c1700",
   "metadata": {},
   "outputs": [
    {
     "name": "stdout",
     "output_type": "stream",
     "text": [
      "b\n",
      "a\n",
      "n\n",
      "a\n",
      "n\n",
      "a\n"
     ]
    }
   ],
   "source": [
    "for x in \"banana\":\n",
    "    print(x)"
   ]
  },
  {
   "cell_type": "code",
   "execution_count": 35,
   "id": "4d2c78c3",
   "metadata": {},
   "outputs": [
    {
     "name": "stdout",
     "output_type": "stream",
     "text": [
      "13\n"
     ]
    }
   ],
   "source": [
    "a = \"Hello, World!\"\n",
    "print(len(a))"
   ]
  },
  {
   "cell_type": "code",
   "execution_count": 36,
   "id": "a96c4c0c",
   "metadata": {},
   "outputs": [
    {
     "name": "stdout",
     "output_type": "stream",
     "text": [
      "True\n"
     ]
    }
   ],
   "source": [
    "txt = \"The best things in life are free!\"\n",
    "print(\"free\" in txt)"
   ]
  },
  {
   "cell_type": "code",
   "execution_count": 37,
   "id": "cefd9bde",
   "metadata": {},
   "outputs": [
    {
     "name": "stdout",
     "output_type": "stream",
     "text": [
      "Yes, 'free' is present.\n"
     ]
    }
   ],
   "source": [
    "txt = \"The best things in life are free!\"\n",
    "if \"free\" in txt:\n",
    "    print(\"Yes, 'free' is present.\")"
   ]
  },
  {
   "cell_type": "code",
   "execution_count": 38,
   "id": "732ba0e3",
   "metadata": {},
   "outputs": [
    {
     "name": "stdout",
     "output_type": "stream",
     "text": [
      "True\n"
     ]
    }
   ],
   "source": [
    "txt = \"The best things in life are free!\"\n",
    "print(\"expensive\" not in txt)"
   ]
  },
  {
   "cell_type": "code",
   "execution_count": 39,
   "id": "282c11a6",
   "metadata": {},
   "outputs": [
    {
     "name": "stdout",
     "output_type": "stream",
     "text": [
      "No, 'expensive' is NOT present.\n"
     ]
    }
   ],
   "source": [
    "txt = \"The best things in life are free!\"\n",
    "if \"expensive\" not in txt:\n",
    "    print(\"No, 'expensive' is NOT present.\")"
   ]
  },
  {
   "cell_type": "markdown",
   "id": "36f1b734",
   "metadata": {},
   "source": [
    "###### Slicing "
   ]
  },
  {
   "cell_type": "code",
   "execution_count": 40,
   "id": "84cce682",
   "metadata": {},
   "outputs": [
    {
     "name": "stdout",
     "output_type": "stream",
     "text": [
      "llo\n"
     ]
    }
   ],
   "source": [
    "b = \"Hello, World!\"\n",
    "print(b[2:5])"
   ]
  },
  {
   "cell_type": "markdown",
   "id": "a7e39e1c",
   "metadata": {},
   "source": [
    "###### Slice from the Start"
   ]
  },
  {
   "cell_type": "code",
   "execution_count": 41,
   "id": "200e580b",
   "metadata": {},
   "outputs": [
    {
     "name": "stdout",
     "output_type": "stream",
     "text": [
      "Hello\n"
     ]
    }
   ],
   "source": [
    "b = \"Hello, World!\"\n",
    "print(b[:5])"
   ]
  },
  {
   "cell_type": "markdown",
   "id": "239a682a",
   "metadata": {},
   "source": [
    "###### Slice to the End"
   ]
  },
  {
   "cell_type": "code",
   "execution_count": 44,
   "id": "656f5dee",
   "metadata": {},
   "outputs": [
    {
     "name": "stdout",
     "output_type": "stream",
     "text": [
      "llo, World!\n"
     ]
    }
   ],
   "source": [
    "b = \"Hello, World!\"\n",
    "print(b[2:])"
   ]
  },
  {
   "cell_type": "markdown",
   "id": "08349fe7",
   "metadata": {},
   "source": [
    "###### Negative Indexing"
   ]
  },
  {
   "cell_type": "code",
   "execution_count": 43,
   "id": "d9f29d03",
   "metadata": {},
   "outputs": [
    {
     "name": "stdout",
     "output_type": "stream",
     "text": [
      "orl\n"
     ]
    }
   ],
   "source": [
    "b = \"Hello, World!\"\n",
    "print(b[-5:-2])"
   ]
  },
  {
   "cell_type": "markdown",
   "id": "6eb01c3b",
   "metadata": {},
   "source": [
    "###### Upper case"
   ]
  },
  {
   "cell_type": "code",
   "execution_count": 45,
   "id": "1b667bfb",
   "metadata": {},
   "outputs": [
    {
     "name": "stdout",
     "output_type": "stream",
     "text": [
      "HELLO, WORLD!\n"
     ]
    }
   ],
   "source": [
    "a = \"Hello, World!\"\n",
    "print(a.upper())"
   ]
  },
  {
   "cell_type": "markdown",
   "id": "522fc7d6",
   "metadata": {},
   "source": [
    "###### Lower Case"
   ]
  },
  {
   "cell_type": "code",
   "execution_count": 46,
   "id": "1cbc6147",
   "metadata": {},
   "outputs": [
    {
     "name": "stdout",
     "output_type": "stream",
     "text": [
      "hello, world!\n"
     ]
    }
   ],
   "source": [
    "a = \"Hello, World!\"\n",
    "print(a.lower())"
   ]
  },
  {
   "cell_type": "markdown",
   "id": "4af73e8b",
   "metadata": {},
   "source": [
    "###### Remove Whitespace"
   ]
  },
  {
   "cell_type": "code",
   "execution_count": 47,
   "id": "1f193c4e",
   "metadata": {},
   "outputs": [
    {
     "name": "stdout",
     "output_type": "stream",
     "text": [
      "Hello, World!\n"
     ]
    }
   ],
   "source": [
    "a = \" Hello, World! \"\n",
    "print(a.strip())"
   ]
  },
  {
   "cell_type": "markdown",
   "id": "b101bea4",
   "metadata": {},
   "source": [
    "###### Replace string"
   ]
  },
  {
   "cell_type": "code",
   "execution_count": 48,
   "id": "472115ca",
   "metadata": {},
   "outputs": [
    {
     "name": "stdout",
     "output_type": "stream",
     "text": [
      "Jello, World!\n"
     ]
    }
   ],
   "source": [
    "a = \"Hello, World!\"\n",
    "print(a.replace(\"H\", \"J\"))"
   ]
  },
  {
   "cell_type": "markdown",
   "id": "e478bd5a",
   "metadata": {},
   "source": [
    "###### Split string"
   ]
  },
  {
   "cell_type": "code",
   "execution_count": 2,
   "id": "3c87d57e",
   "metadata": {},
   "outputs": [
    {
     "name": "stdout",
     "output_type": "stream",
     "text": [
      "['Hello', ' World!']\n",
      "<class 'list'>\n"
     ]
    }
   ],
   "source": [
    "a = \"Hello, World!\"\n",
    "x = a.split(\",\")\n",
    "print(a.split(\",\"))\n",
    "print(type(x))"
   ]
  },
  {
   "cell_type": "markdown",
   "id": "203499a8",
   "metadata": {},
   "source": [
    "###### String Concatenation"
   ]
  },
  {
   "cell_type": "code",
   "execution_count": 52,
   "id": "4d36f92a",
   "metadata": {},
   "outputs": [
    {
     "name": "stdout",
     "output_type": "stream",
     "text": [
      "HelloWorld\n"
     ]
    }
   ],
   "source": [
    "a = \"Hello\"\n",
    "b = \"World\"\n",
    "c = a + b\n",
    "print(c)"
   ]
  },
  {
   "cell_type": "code",
   "execution_count": 53,
   "id": "8d19041b",
   "metadata": {},
   "outputs": [
    {
     "name": "stdout",
     "output_type": "stream",
     "text": [
      "Hello World\n"
     ]
    }
   ],
   "source": [
    "a = \"Hello\"\n",
    "b = \"World\"\n",
    "c = a + \" \" + b\n",
    "print(c)"
   ]
  },
  {
   "cell_type": "markdown",
   "id": "cf490752",
   "metadata": {},
   "source": [
    "###### Format Strings"
   ]
  },
  {
   "cell_type": "code",
   "execution_count": 5,
   "id": "0f01672c",
   "metadata": {},
   "outputs": [
    {
     "name": "stdout",
     "output_type": "stream",
     "text": [
      "I want 3 pieces of item 567 for 49.95 dollars.\n"
     ]
    }
   ],
   "source": [
    "#we cannot combine strings and numbers\n",
    "#But we can combine strings and numbers by using the format() method!\n",
    "\n",
    "quantity = 3\n",
    "itemno = 567\n",
    "price = 49.95\n",
    "myorder = \"I want {} pieces of item {} for {} dollars.\"\n",
    "print(myorder.format(quantity, itemno, price))"
   ]
  },
  {
   "cell_type": "code",
   "execution_count": 7,
   "id": "fda2eff8",
   "metadata": {},
   "outputs": [
    {
     "name": "stdout",
     "output_type": "stream",
     "text": [
      "I want to pay 49.95 dollars for 3 pieces of item 567.\n"
     ]
    }
   ],
   "source": [
    "quantity = 3\n",
    "itemno = 567\n",
    "price = 49.95\n",
    "myorder = \"I want to pay {2} dollars for {0} pieces of item {1}.\"\n",
    "print(myorder.format(quantity, itemno, price))"
   ]
  },
  {
   "cell_type": "markdown",
   "id": "59a6a071",
   "metadata": {},
   "source": [
    "###### Escape Characters"
   ]
  },
  {
   "cell_type": "code",
   "execution_count": 9,
   "id": "c573220d",
   "metadata": {},
   "outputs": [
    {
     "name": "stdout",
     "output_type": "stream",
     "text": [
      "We are the so-called \"Vikings\" from the north.\n"
     ]
    }
   ],
   "source": [
    "txt = \"We are the so-called \\\"Vikings\\\" from the north.\"\n",
    "print(txt)"
   ]
  },
  {
   "cell_type": "code",
   "execution_count": 12,
   "id": "2f3711ce",
   "metadata": {},
   "outputs": [],
   "source": [
    "# \\'   Single Quote\n",
    "# \\\\   Backslash\n",
    "# \\n   New Line\n",
    "# \\r   Carriage Return\n",
    "# \\t   Tab\n",
    "# \\b   Backspace\n",
    "# \\f   Form Feed\n",
    "# \\ooo Octal value\n",
    "# \\xhh Hex value"
   ]
  },
  {
   "cell_type": "markdown",
   "id": "d5a7616b",
   "metadata": {},
   "source": [
    "###### String Method"
   ]
  },
  {
   "cell_type": "code",
   "execution_count": 13,
   "id": "847e6306",
   "metadata": {},
   "outputs": [],
   "source": [
    "#All string methods returns new values. They do not change the original string."
   ]
  },
  {
   "cell_type": "markdown",
   "id": "d01644c6",
   "metadata": {},
   "source": [
    ">**capitalize()**\tConverts the first character to upper case\n",
    "\n",
    ">**casefold()**\tConverts string into lower case\n",
    "\n",
    ">**center()**\tReturns a centered string\n",
    "\n",
    ">**count()**\tReturns the number of times a specified value occurs in a string\n",
    "\n",
    ">**encode()**\tReturns an encoded version of the string\n",
    "\n",
    ">**endswith()**\tReturns true if the string ends with the specified value\n",
    "\n",
    ">**expandtabs()**\tSets the tab size of the string\n",
    "\n",
    ">**find()**\tSearches the string for a specified value and returns the position of where it was found\n",
    "\n",
    ">**format()**\tFormats specified values in a string\n",
    "\n",
    ">**format_map()**\tFormats specified values in a string\n",
    "\n",
    ">**index()**\tSearches the string for a specified value and returns the position of where it was found\n",
    "\n",
    ">**isalnum()**\tReturns True if all characters in the string are alphanumeric\n",
    "\n",
    ">**isalpha()**\tReturns True if all characters in the string are in the alphabet\n",
    "\n",
    ">**isdecimal()**\tReturns True if all characters in the string are decimals\n",
    "\n",
    ">**isdigit()**\tReturns True if all characters in the string are digits\n",
    "\n",
    ">**isidentifier()**\tReturns True if the string is an identifier\n",
    "\n",
    ">**islower()**\tReturns True if all characters in the string are lower case\n",
    "\n",
    ">**isnumeric()**\tReturns True if all characters in the string are numeric\n",
    "\n",
    ">**isprintable()**\tReturns True if all characters in the string are printable\n",
    "\n",
    ">**isspace()**\tReturns True if all characters in the string are whitespaces\n",
    "\n",
    ">**istitle()**\tReturns True if the string follows the rules of a title\n",
    "\n",
    ">**isupper()**\tReturns True if all characters in the string are upper case\n",
    "\n",
    ">**join()**\tJoins the elements of an iterable to the end of the string\n",
    "\n",
    ">**ljust()**\tReturns a left justified version of the string\n",
    "\n",
    ">**lower()**\tConverts a string into lower case\n",
    "\n",
    ">**lstrip()**\tReturns a left trim version of the string\n",
    "\n",
    ">**maketrans()**\tReturns a translation table to be used in translations\n",
    "\n",
    ">**partition()**\tReturns a tuple where the string is parted into three parts\n",
    "\n",
    ">**replace()**\tReturns a string where a specified value is replaced with a specified value\n",
    "\n",
    ">**rfind()**\tSearches the string for a specified value and returns the last position of where it was found\n",
    "\n",
    ">**rindex()**\tSearches the string for a specified value and returns the last position of where it was found\n",
    "\n",
    ">**rjust()**\tReturns a right justified version of the string\n",
    "\n",
    ">**rpartition()**\tReturns a tuple where the string is parted into three parts\n",
    "\n",
    ">**rsplit()**\tSplits the string at the specified separator, and returns a list\n",
    "\n",
    ">**rstrip()**\tReturns a right trim version of the string\n",
    "\n",
    ">**split()**\tSplits the string at the specified separator, and returns a list\n",
    "\n",
    ">**splitlines()**\tSplits the string at line breaks and returns a list\n",
    "\n",
    ">**startswith()**\tReturns true if the string starts with the specified value\n",
    "\n",
    ">**strip()**\tReturns a trimmed version of the string\n",
    "\n",
    ">**swapcase()**\tSwaps cases, lower case becomes upper case and vice versa\n",
    "\n",
    ">**title()**\tConverts the first character of each word to upper case\n",
    "\n",
    ">**translate()**\tReturns a translated string\n",
    "\n",
    ">**upper()**\tConverts a string into upper case\n",
    "\n",
    ">**zfill()**\tFills the string with a specified number of 0 values at the beginning"
   ]
  },
  {
   "cell_type": "markdown",
   "id": "d59ab20f",
   "metadata": {},
   "source": [
    "###### Booleans"
   ]
  },
  {
   "cell_type": "code",
   "execution_count": null,
   "id": "38f79816",
   "metadata": {},
   "outputs": [],
   "source": []
  },
  {
   "cell_type": "code",
   "execution_count": null,
   "id": "f31887f9",
   "metadata": {},
   "outputs": [],
   "source": []
  }
 ],
 "metadata": {
  "kernelspec": {
   "display_name": "Python 3 (ipykernel)",
   "language": "python",
   "name": "python3"
  },
  "language_info": {
   "codemirror_mode": {
    "name": "ipython",
    "version": 3
   },
   "file_extension": ".py",
   "mimetype": "text/x-python",
   "name": "python",
   "nbconvert_exporter": "python",
   "pygments_lexer": "ipython3",
   "version": "3.9.7"
  }
 },
 "nbformat": 4,
 "nbformat_minor": 5
}
