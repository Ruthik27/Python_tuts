{
 "cells": [
  {
   "cell_type": "code",
   "execution_count": 4,
   "id": "4f0d72ad",
   "metadata": {
    "scrolled": true
   },
   "outputs": [
    {
     "name": "stdout",
     "output_type": "stream",
     "text": [
      "Reset css and font defaults in:\n",
      "C:\\Users\\RKGOD\\.jupyter\\custom &\n",
      "C:\\Users\\RKGOD\\AppData\\Roaming\\jupyter\\nbextensions\n"
     ]
    }
   ],
   "source": [
    "#conda install -c conda-forge jupyterthemes\n",
    "#pip install jupyterthemes\n",
    "#pip install --upgrade jupyterthemes\n",
    "#!jt -t oceans16\n",
    "!jt -r\n",
    "#pip uninstall jupyterthemes"
   ]
  },
  {
   "cell_type": "markdown",
   "id": "9d081f32",
   "metadata": {},
   "source": [
    "#### print  anything python_w3"
   ]
  },
  {
   "cell_type": "code",
   "execution_count": 3,
   "id": "b6e57033",
   "metadata": {},
   "outputs": [
    {
     "name": "stdout",
     "output_type": "stream",
     "text": [
      "hello world\n"
     ]
    }
   ],
   "source": [
    "print(\"hello world\")"
   ]
  },
  {
   "cell_type": "markdown",
   "id": "f9ef22b1",
   "metadata": {},
   "source": [
    "#### IF ElSE + comment"
   ]
  },
  {
   "cell_type": "code",
   "execution_count": 11,
   "id": "c7077e27",
   "metadata": {},
   "outputs": [
    {
     "name": "stdout",
     "output_type": "stream",
     "text": [
      "20 is big\n"
     ]
    }
   ],
   "source": [
    "if 5> 20:\n",
    "    print(\"5 is big\")\n",
    "else: #comment it is\n",
    "    print(\"20 is big\")"
   ]
  },
  {
   "cell_type": "markdown",
   "id": "bef1bfe4",
   "metadata": {},
   "source": [
    "### VARIABLES"
   ]
  },
  {
   "cell_type": "markdown",
   "id": "414c957a",
   "metadata": {},
   "source": [
    "##### Know the type of a Variable  + Change the type"
   ]
  },
  {
   "cell_type": "code",
   "execution_count": 35,
   "id": "aa57c71b",
   "metadata": {},
   "outputs": [
    {
     "name": "stdout",
     "output_type": "stream",
     "text": [
      "4\n",
      "4\n",
      "4\n",
      "<class 'str'>\n"
     ]
    }
   ],
   "source": [
    "x = 4 # here x is a variable\n",
    "print(x)\n",
    "y = \"4\"\n",
    "print(y)\n",
    "#x = \"john\"\n",
    "print(x)\n",
    "x = str(x)\n",
    "print(type(x)) #TO FIND VARIABLE TYPE"
   ]
  },
  {
   "cell_type": "markdown",
   "id": "19dbf131",
   "metadata": {},
   "source": [
    "##### types to write a vairable name"
   ]
  },
  {
   "cell_type": "code",
   "execution_count": 36,
   "id": "02e97091",
   "metadata": {},
   "outputs": [],
   "source": [
    "myVariableName = \"Camel Case\"\n",
    "MyVariableName = \"Pascal Case\"\n",
    "my_variable_name = \"Snake Case\""
   ]
  },
  {
   "cell_type": "markdown",
   "id": "51178511",
   "metadata": {},
   "source": [
    "##### assign multiple values"
   ]
  },
  {
   "cell_type": "code",
   "execution_count": 37,
   "id": "0a65a209",
   "metadata": {},
   "outputs": [
    {
     "name": "stdout",
     "output_type": "stream",
     "text": [
      "Orange\n",
      "Banana\n",
      "Cherry\n"
     ]
    }
   ],
   "source": [
    "x, y, z = \"Orange\", \"Banana\", \"Cherry\"\n",
    "print(x)\n",
    "print(y) Almost before\n",
    "print(z)"
   ]
  },
  {
   "cell_type": "markdown",
   "id": "15f94d8a",
   "metadata": {},
   "source": [
    "##### one value -> multiple variable"
   ]
  },
  {
   "cell_type": "code",
   "execution_count": 38,
   "id": "0a5bdcb3",
   "metadata": {},
   "outputs": [
    {
     "name": "stdout",
     "output_type": "stream",
     "text": [
      "Orange\n",
      "Orange\n",
      "Orange\n"
     ]
    }
   ],
   "source": [
    "x = y = z = \"Orange\"\n",
    "print(x)\n",
    "print(y)\n",
    "print(z)"
   ]
  },
  {
   "cell_type": "markdown",
   "id": "f58eb09e",
   "metadata": {},
   "source": [
    "##### Collection"
   ]
  },
  {
   "cell_type": "code",
   "execution_count": 39,
   "id": "6683f3f6",
   "metadata": {},
   "outputs": [
    {
     "name": "stdout",
     "output_type": "stream",
     "text": [
      "apple\n",
      "banana\n",
      "cherry\n"
     ]
    }
   ],
   "source": [
    "fruits = [\"apple\", \"banana\", \"cherry\"]\n",
    "x, y, z = fruits\n",
    "print(x)\n",
    "print(y)\n",
    "print(z)"
   ]
  },
  {
   "cell_type": "markdown",
   "id": "df321160",
   "metadata": {},
   "source": [
    "##### Combining variables"
   ]
  },
  {
   "cell_type": "code",
   "execution_count": 47,
   "id": "c0f2db9b",
   "metadata": {},
   "outputs": [
    {
     "name": "stdout",
     "output_type": "stream",
     "text": [
      "Python is BANG bang\n"
     ]
    }
   ],
   "source": [
    "x = \"BANG\"\n",
    "y = \"bang\"\n",
    "print(\"Python is \" + x +\" \"+ y)"
   ]
  },
  {
   "cell_type": "markdown",
   "id": "0ec5dc6a",
   "metadata": {},
   "source": [
    "##### Global variables"
   ]
  },
  {
   "cell_type": "code",
   "execution_count": 52,
   "id": "d159484e",
   "metadata": {},
   "outputs": [
    {
     "name": "stdout",
     "output_type": "stream",
     "text": [
      "Python is fantastic\n",
      "Python is awesome\n"
     ]
    }
   ],
   "source": [
    "x = \"awesome\" # global\n",
    "\n",
    "def myfunc():\n",
    "    x = \"fantastic\" # local\n",
    "    print(\"Python is \" + x)\n",
    "\n",
    "myfunc()\n",
    "\n",
    "print(\"Python is \" + x)"
   ]
  },
  {
   "cell_type": "code",
   "execution_count": 1,
   "id": "5b111311",
   "metadata": {},
   "outputs": [
    {
     "name": "stdout",
     "output_type": "stream",
     "text": [
      "Python is awesome\n",
      "Python is fantastic\n",
      "Python is cool\n",
      "Python is fantastic\n"
     ]
    }
   ],
   "source": [
    "x = \"awesome\" # global\n",
    "print(\"Python is \" + x)\n",
    "\n",
    "def myfunc():\n",
    "    y = \"cool\" # local\n",
    "    global x\n",
    "    x = \"fantastic\" #global inside funct\n",
    "    print(\"Python is \" + x)\n",
    "    print(\"Python is \" + y)\n",
    "myfunc()\n",
    "print(\"Python is \" + x)"
   ]
  },
  {
   "cell_type": "markdown",
   "id": "886a7d2e",
   "metadata": {},
   "source": [
    "\n",
    "#### data types"
   ]
  },
  {
   "cell_type": "code",
   "execution_count": 2,
   "id": "42f0eb01",
   "metadata": {},
   "outputs": [],
   "source": [
    "# Text Type:str\n",
    "# Numeric Types:int, float, complex\n",
    "# Sequence Types:list, tuple, range\n",
    "# Mapping Type:dict\n",
    "# Set Types:set, frozenset\n",
    "# Boolean Type:bool\n",
    "# Binary Types:bytes, bytearray, memoryview"
   ]
  },
  {
   "cell_type": "markdown",
   "id": "576baf66",
   "metadata": {},
   "source": [
    "###### setting data type"
   ]
  },
  {
   "cell_type": "code",
   "execution_count": 9,
   "id": "ac5f5d54",
   "metadata": {},
   "outputs": [
    {
     "name": "stdout",
     "output_type": "stream",
     "text": [
      "Hello World\n",
      "<class 'str'>\n",
      "20\n",
      "<class 'int'>\n",
      "20.5\n",
      "<class 'float'>\n",
      "1j\n",
      "<class 'complex'>\n",
      "['apple', 'banana', 'cherry']\n",
      "<class 'list'>\n",
      "('apple', 'banana', 'cherry')\n",
      "<class 'tuple'>\n",
      "range(0, 6)\n",
      "<class 'range'>\n",
      "{'name': 'John', 'age': 36}\n",
      "<class 'dict'>\n",
      "{'cherry', 'apple', 'banana'}\n",
      "<class 'set'>\n",
      "frozenset({'cherry', 'apple', 'banana'})\n",
      "<class 'frozenset'>\n",
      "True\n",
      "<class 'bool'>\n",
      "b'Hello'\n",
      "<class 'bytes'>\n",
      "True\n",
      "bytearray(b'\\x00\\x00\\x00\\x00\\x00')\n",
      "<class 'bytearray'>\n",
      "<memory at 0x000001A7C1520DC0>\n",
      "<class 'memoryview'>\n"
     ]
    }
   ],
   "source": [
    "a = str(\"Hello World\")\n",
    "print(a)\n",
    "print(type(a))\n",
    "\n",
    "b = int(20)\n",
    "print(b)\n",
    "print(type(b))\n",
    "\n",
    "c = float(20.5)\n",
    "print(c)\n",
    "print(type(c))\n",
    "\n",
    "d = complex(1j)\n",
    "print(d)\n",
    "print(type(d))\n",
    "\n",
    "e = list((\"apple\", \"banana\", \"cherry\"))\n",
    "print(e)\n",
    "print(type(e))\n",
    "\n",
    "f = tuple((\"apple\", \"banana\", \"cherry\"))\n",
    "print(f)\n",
    "print(type(f))\n",
    "\n",
    "g = range(6)\n",
    "print(g)\n",
    "print(type(g))\n",
    "\n",
    "h = dict(name=\"John\", age=36)\n",
    "print(h)\n",
    "print(type(h))\n",
    "\n",
    "i = set((\"apple\", \"banana\", \"cherry\"))\n",
    "print(i)\n",
    "print(type(i))\n",
    "\n",
    "j = frozenset((\"apple\", \"banana\", \"cherry\"))\n",
    "print(j)\n",
    "print(type(j))\n",
    "\n",
    "k = True\n",
    "print(k)\n",
    "print(type(k))\n",
    "\n",
    "l = b\"Hello\"\n",
    "print(l)\n",
    "print(type(l))\n",
    "\n",
    "o = bool(5)\n",
    "print(o)\n",
    "\n",
    "m = bytearray(5)\n",
    "print(m)\n",
    "print(type(m))\n",
    "\n",
    "n = memoryview(bytes(5))\n",
    "print(n)\n",
    "print(type(n))"
   ]
  },
  {
   "cell_type": "markdown",
   "id": "ab0908ca",
   "metadata": {},
   "source": [
    "###### python numbers"
   ]
  },
  {
   "cell_type": "code",
   "execution_count": 16,
   "id": "c3433d0c",
   "metadata": {},
   "outputs": [
    {
     "name": "stdout",
     "output_type": "stream",
     "text": [
      "<class 'int'>\n",
      "<class 'float'>\n",
      "<class 'complex'>\n"
     ]
    }
   ],
   "source": [
    "x = 1\n",
    "y = 2.8\n",
    "z = 1j\n",
    "print(type(x))\n",
    "print(type(y))\n",
    "print(type(z))"
   ]
  },
  {
   "cell_type": "markdown",
   "id": "8172741b",
   "metadata": {},
   "source": [
    "###### convertion "
   ]
  },
  {
   "cell_type": "code",
   "execution_count": 17,
   "id": "9abda065",
   "metadata": {},
   "outputs": [
    {
     "name": "stdout",
     "output_type": "stream",
     "text": [
      "1.0\n",
      "2\n",
      "(1+0j)\n",
      "<class 'float'>\n",
      "<class 'int'>\n",
      "<class 'complex'>\n"
     ]
    }
   ],
   "source": [
    "x = 1    # int\n",
    "y = 2.8  # float\n",
    "z = 1j   # complex\n",
    "\n",
    "#convert from int to float:\n",
    "a = float(x)\n",
    "\n",
    "#convert from float to int:\n",
    "b = int(y)\n",
    "\n",
    "#convert from int to complex:\n",
    "c = complex(x)\n",
    "\n",
    "print(a)\n",
    "print(b)\n",
    "print(c)\n",
    "\n",
    "print(type(a))\n",
    "print(type(b))\n",
    "print(type(c))"
   ]
  },
  {
   "cell_type": "markdown",
   "id": "68e7a80e",
   "metadata": {},
   "source": [
    "###### random"
   ]
  },
  {
   "cell_type": "code",
   "execution_count": 19,
   "id": "60d13cc3",
   "metadata": {},
   "outputs": [
    {
     "name": "stdout",
     "output_type": "stream",
     "text": [
      "2\n"
     ]
    }
   ],
   "source": [
    "import random\n",
    "\n",
    "print(random.randrange(1, 10))"
   ]
  },
  {
   "cell_type": "markdown",
   "id": "90f37b57",
   "metadata": {},
   "source": [
    "###### specify"
   ]
  },
  {
   "cell_type": "code",
   "execution_count": 22,
   "id": "b78ee0c2",
   "metadata": {},
   "outputs": [
    {
     "name": "stdout",
     "output_type": "stream",
     "text": [
      "1\n",
      "2\n",
      "3\n"
     ]
    }
   ],
   "source": [
    "x = int(1)  \n",
    "y = int(2.8)\n",
    "z = int(\"3\")\n",
    "print(x)\n",
    "print(y)\n",
    "print(z)"
   ]
  },
  {
   "cell_type": "code",
   "execution_count": 23,
   "id": "c67026fb",
   "metadata": {},
   "outputs": [
    {
     "name": "stdout",
     "output_type": "stream",
     "text": [
      "1.0\n",
      "2.8\n",
      "3.0\n",
      "4.2\n"
     ]
    }
   ],
   "source": [
    "x = float(1)     \n",
    "y = float(2.8)   \n",
    "z = float(\"3\")   \n",
    "w = float(\"4.2\") \n",
    "print(x)\n",
    "print(y)\n",
    "print(z)\n",
    "print(w)"
   ]
  },
  {
   "cell_type": "code",
   "execution_count": 24,
   "id": "7fc484ce",
   "metadata": {},
   "outputs": [
    {
     "name": "stdout",
     "output_type": "stream",
     "text": [
      "s1\n",
      "2\n",
      "3.0\n"
     ]
    }
   ],
   "source": [
    "x = str(\"s1\") \n",
    "y = str(2)    \n",
    "z = str(3.0)\n",
    "print(x)\n",
    "print(y)\n",
    "print(z)"
   ]
  },
  {
   "cell_type": "markdown",
   "id": "e49229c1",
   "metadata": {},
   "source": []
  },
  {
   "cell_type": "code",
   "execution_count": 28,
   "id": "2d8cb9fa",
   "metadata": {},
   "outputs": [
    {
     "name": "stdout",
     "output_type": "stream",
     "text": [
      "Hello\n"
     ]
    }
   ],
   "source": [
    "a = \"Hello\"\n",
    "print(a)"
   ]
  },
  {
   "cell_type": "code",
   "execution_count": 32,
   "id": "5e43c5b0",
   "metadata": {},
   "outputs": [
    {
     "name": "stdout",
     "output_type": "stream",
     "text": [
      "e\n"
     ]
    }
   ],
   "source": [
    "a = \"Hello, World!\"\n",
    "print(a[1])"
   ]
  },
  {
   "cell_type": "code",
   "execution_count": 34,
   "id": "b23c1700",
   "metadata": {},
   "outputs": [
    {
     "name": "stdout",
     "output_type": "stream",
     "text": [
      "b\n",
      "a\n",
      "n\n",
      "a\n",
      "n\n",
      "a\n"
     ]
    }
   ],
   "source": [
    "for x in \"banana\":\n",
    "    print(x)"
   ]
  },
  {
   "cell_type": "code",
   "execution_count": 35,
   "id": "4d2c78c3",
   "metadata": {},
   "outputs": [
    {
     "name": "stdout",
     "output_type": "stream",
     "text": [
      "13\n"
     ]
    }
   ],
   "source": [
    "a = \"Hello, World!\"\n",
    "print(len(a))"
   ]
  },
  {
   "cell_type": "code",
   "execution_count": 36,
   "id": "a96c4c0c",
   "metadata": {},
   "outputs": [
    {
     "name": "stdout",
     "output_type": "stream",
     "text": [
      "True\n"
     ]
    }
   ],
   "source": [
    "txt = \"The best things in life are free!\"\n",
    "print(\"free\" in txt)"
   ]
  },
  {
   "cell_type": "code",
   "execution_count": 37,
   "id": "cefd9bde",
   "metadata": {},
   "outputs": [
    {
     "name": "stdout",
     "output_type": "stream",
     "text": [
      "Yes, 'free' is present.\n"
     ]
    }
   ],
   "source": [
    "txt = \"The best things in life are free!\"\n",
    "if \"free\" in txt:\n",
    "    print(\"Yes, 'free' is present.\")"
   ]
  },
  {
   "cell_type": "code",
   "execution_count": 38,
   "id": "732ba0e3",
   "metadata": {},
   "outputs": [
    {
     "name": "stdout",
     "output_type": "stream",
     "text": [
      "True\n"
     ]
    }
   ],
   "source": [
    "txt = \"The best things in life are free!\"\n",
    "print(\"expensive\" not in txt)"
   ]
  },
  {
   "cell_type": "code",
   "execution_count": 39,
   "id": "282c11a6",
   "metadata": {},
   "outputs": [
    {
     "name": "stdout",
     "output_type": "stream",
     "text": [
      "No, 'expensive' is NOT present.\n"
     ]
    }
   ],
   "source": [
    "txt = \"The best things in life are free!\"\n",
    "if \"expensive\" not in txt:\n",
    "    print(\"No, 'expensive' is NOT present.\")"
   ]
  },
  {
   "cell_type": "markdown",
   "id": "36f1b734",
   "metadata": {},
   "source": [
    "###### Slicing "
   ]
  },
  {
   "cell_type": "code",
   "execution_count": 40,
   "id": "84cce682",
   "metadata": {},
   "outputs": [
    {
     "name": "stdout",
     "output_type": "stream",
     "text": [
      "llo\n"
     ]
    }
   ],
   "source": [
    "b = \"Hello, World!\"\n",
    "print(b[2:5])"
   ]
  },
  {
   "cell_type": "markdown",
   "id": "a7e39e1c",
   "metadata": {},
   "source": [
    "###### Slice from the Start"
   ]
  },
  {
   "cell_type": "code",
   "execution_count": 41,
   "id": "200e580b",
   "metadata": {},
   "outputs": [
    {
     "name": "stdout",
     "output_type": "stream",
     "text": [
      "Hello\n"
     ]
    }
   ],
   "source": [
    "b = \"Hello, World!\"\n",
    "print(b[:5])"
   ]
  },
  {
   "cell_type": "markdown",
   "id": "239a682a",
   "metadata": {},
   "source": [
    "###### Slice to the End"
   ]
  },
  {
   "cell_type": "code",
   "execution_count": 44,
   "id": "656f5dee",
   "metadata": {},
   "outputs": [
    {
     "name": "stdout",
     "output_type": "stream",
     "text": [
      "llo, World!\n"
     ]
    }
   ],
   "source": [
    "b = \"Hello, World!\"\n",
    "print(b[2:])"
   ]
  },
  {
   "cell_type": "markdown",
   "id": "08349fe7",
   "metadata": {},
   "source": [
    "###### Negative Indexing"
   ]
  },
  {
   "cell_type": "code",
   "execution_count": 43,
   "id": "d9f29d03",
   "metadata": {},
   "outputs": [
    {
     "name": "stdout",
     "output_type": "stream",
     "text": [
      "orl\n"
     ]
    }
   ],
   "source": [
    "b = \"Hello, World!\"\n",
    "print(b[-5:-2])"
   ]
  },
  {
   "cell_type": "markdown",
   "id": "6eb01c3b",
   "metadata": {},
   "source": [
    "###### Upper case"
   ]
  },
  {
   "cell_type": "code",
   "execution_count": 45,
   "id": "1b667bfb",
   "metadata": {},
   "outputs": [
    {
     "name": "stdout",
     "output_type": "stream",
     "text": [
      "HELLO, WORLD!\n"
     ]
    }
   ],
   "source": [
    "a = \"Hello, World!\"\n",
    "print(a.upper())"
   ]
  },
  {
   "cell_type": "markdown",
   "id": "522fc7d6",
   "metadata": {},
   "source": [
    "###### Lower Case"
   ]
  },
  {
   "cell_type": "code",
   "execution_count": 46,
   "id": "1cbc6147",
   "metadata": {},
   "outputs": [
    {
     "name": "stdout",
     "output_type": "stream",
     "text": [
      "hello, world!\n"
     ]
    }
   ],
   "source": [
    "a = \"Hello, World!\"\n",
    "print(a.lower())"
   ]
  },
  {
   "cell_type": "markdown",
   "id": "4af73e8b",
   "metadata": {},
   "source": [
    "###### Remove Whitespace"
   ]
  },
  {
   "cell_type": "code",
   "execution_count": 47,
   "id": "1f193c4e",
   "metadata": {},
   "outputs": [
    {
     "name": "stdout",
     "output_type": "stream",
     "text": [
      "Hello, World!\n"
     ]
    }
   ],
   "source": [
    "a = \" Hello, World! \"\n",
    "print(a.strip())"
   ]
  },
  {
   "cell_type": "markdown",
   "id": "b101bea4",
   "metadata": {},
   "source": [
    "###### Replace string"
   ]
  },
  {
   "cell_type": "code",
   "execution_count": 48,
   "id": "472115ca",
   "metadata": {},
   "outputs": [
    {
     "name": "stdout",
     "output_type": "stream",
     "text": [
      "Jello, World!\n"
     ]
    }
   ],
   "source": [
    "a = \"Hello, World!\"\n",
    "print(a.replace(\"H\", \"J\"))"
   ]
  },
  {
   "cell_type": "markdown",
   "id": "e478bd5a",
   "metadata": {},
   "source": [
    "###### Split string"
   ]
  },
  {
   "cell_type": "code",
   "execution_count": 2,
   "id": "3c87d57e",
   "metadata": {},
   "outputs": [
    {
     "name": "stdout",
     "output_type": "stream",
     "text": [
      "['Hello', ' World!']\n",
      "<class 'list'>\n"
     ]
    }
   ],
   "source": [
    "a = \"Hello, World!\"\n",
    "x = a.split(\",\")\n",
    "print(a.split(\",\"))\n",
    "print(type(x))"
   ]
  },
  {
   "cell_type": "markdown",
   "id": "203499a8",
   "metadata": {},
   "source": [
    "###### String Concatenation"
   ]
  },
  {
   "cell_type": "code",
   "execution_count": 52,
   "id": "4d36f92a",
   "metadata": {},
   "outputs": [
    {
     "name": "stdout",
     "output_type": "stream",
     "text": [
      "HelloWorld\n"
     ]
    }
   ],
   "source": [
    "a = \"Hello\"\n",
    "b = \"World\"\n",
    "c = a + b\n",
    "print(c)"
   ]
  },
  {
   "cell_type": "code",
   "execution_count": 53,
   "id": "8d19041b",
   "metadata": {},
   "outputs": [
    {
     "name": "stdout",
     "output_type": "stream",
     "text": [
      "Hello World\n"
     ]
    }
   ],
   "source": [
    "a = \"Hello\"\n",
    "b = \"World\"\n",
    "c = a + \" \" + b\n",
    "print(c)"
   ]
  },
  {
   "cell_type": "markdown",
   "id": "1e795f5d",
   "metadata": {},
   "source": [
    "###### Format Strings"
   ]
  },
  {
   "cell_type": "code",
   "execution_count": 5,
   "id": "0f01672c",
   "metadata": {},
   "outputs": [
    {
     "name": "stdout",
     "output_type": "stream",
     "text": [
      "I want 3 pieces of item 567 for 49.95 dollars.\n"
     ]
    }
   ],
   "source": [
    "#we cannot combine strings and numbers\n",
    "#But we can combine strings and numbers by using the format() method!\n",
    "\n",
    "quantity = 3\n",
    "itemno = 567\n",
    "price = 49.95\n",
    "myorder = \"I want {} pieces of item {} for {} dollars.\"\n",
    "print(myorder.format(quantity, itemno, price))"
   ]
  },
  {
   "cell_type": "code",
   "execution_count": 7,
   "id": "fda2eff8",
   "metadata": {},
   "outputs": [
    {
     "name": "stdout",
     "output_type": "stream",
     "text": [
      "I want to pay 49.95 dollars for 3 pieces of item 567.\n"
     ]
    }
   ],
   "source": [
    "quantity = 3\n",
    "itemno = 567\n",
    "price = 49.95\n",
    "myorder = \"I want to pay {2} dollars for {0} pieces of item {1}.\"\n",
    "print(myorder.format(quantity, itemno, price))"
   ]
  },
  {
   "cell_type": "markdown",
   "id": "bd420908",
   "metadata": {},
   "source": [
    "###### Escape Characters"
   ]
  },
  {
   "cell_type": "code",
   "execution_count": 9,
   "id": "8bb0cdad",
   "metadata": {},
   "outputs": [
    {
     "name": "stdout",
     "output_type": "stream",
     "text": [
      "We are the so-called \"Vikings\" from the north.\n"
     ]
    }
   ],
   "source": [
    "txt = \"We are the so-called \\\"Vikings\\\" from the north.\"\n",
    "print(txt)"
   ]
  },
  {
   "cell_type": "code",
   "execution_count": 12,
   "id": "58a60251",
   "metadata": {},
   "outputs": [],
   "source": [
    "# \\'   Single Quote\n",
    "# \\\\   Backslash\n",
    "# \\n   New Line\n",
    "# \\r   Carriage Return\n",
    "# \\t   Tab\n",
    "# \\b   Backspace\n",
    "# \\f   Form Feed\n",
    "# \\ooo Octal value\n",
    "# \\xhh Hex value"
   ]
  },
  {
   "cell_type": "markdown",
   "id": "317079cd",
   "metadata": {},
   "source": [
    "###### String Method"
   ]
  },
  {
   "cell_type": "code",
   "execution_count": 13,
   "id": "8f83c9c8",
   "metadata": {},
   "outputs": [],
   "source": [
    "#All string methods returns new values. They do not change the original string."
   ]
  },
  {
   "cell_type": "markdown",
   "id": "80180243",
   "metadata": {},
   "source": [
    ">**capitalize()**\tConverts the first character to upper case\n",
    "\n",
    ">**casefold()**\tConverts string into lower case\n",
    "\n",
    ">**center()**\tReturns a centered string\n",
    "\n",
    ">**count()**\tReturns the number of times a specified value occurs in a string\n",
    "\n",
    ">**encode()**\tReturns an encoded version of the string\n",
    "\n",
    ">**endswith()**\tReturns true if the string ends with the specified value\n",
    "\n",
    ">**expandtabs()**\tSets the tab size of the string\n",
    "\n",
    ">**find()**\tSearches the string for a specified value and returns the position of where it was found\n",
    "\n",
    ">**format()**\tFormats specified values in a string\n",
    "\n",
    ">**format_map()**\tFormats specified values in a string\n",
    "\n",
    ">**index()**\tSearches the string for a specified value and returns the position of where it was found\n",
    "\n",
    ">**isalnum()**\tReturns True if all characters in the string are alphanumeric\n",
    "\n",
    ">**isalpha()**\tReturns True if all characters in the string are in the alphabet\n",
    "\n",
    ">**isdecimal()**\tReturns True if all characters in the string are decimals\n",
    "\n",
    ">**isdigit()**\tReturns True if all characters in the string are digits\n",
    "\n",
    ">**isidentifier()**\tReturns True if the string is an identifier\n",
    "\n",
    ">**islower()**\tReturns True if all characters in the string are lower case\n",
    "\n",
    ">**isnumeric()**\tReturns True if all characters in the string are numeric\n",
    "\n",
    ">**isprintable()**\tReturns True if all characters in the string are printable\n",
    "\n",
    ">**isspace()**\tReturns True if all characters in the string are whitespaces\n",
    "\n",
    ">**istitle()**\tReturns True if the string follows the rules of a title\n",
    "\n",
    ">**isupper()**\tReturns True if all characters in the string are upper case\n",
    "\n",
    ">**join()**\tJoins the elements of an iterable to the end of the string\n",
    "\n",
    ">**ljust()**\tReturns a left justified version of the string\n",
    "\n",
    ">**lower()**\tConverts a string into lower case\n",
    "\n",
    ">**lstrip()**\tReturns a left trim version of the string\n",
    "\n",
    ">**maketrans()**\tReturns a translation table to be used in translations\n",
    "\n",
    ">**partition()**\tReturns a tuple where the string is parted into three parts\n",
    "\n",
    ">**replace()**\tReturns a string where a specified value is replaced with a specified value\n",
    "\n",
    ">**rfind()**\tSearches the string for a specified value and returns the last position of where it was found\n",
    "\n",
    ">**rindex()**\tSearches the string for a specified value and returns the last position of where it was found\n",
    "\n",
    ">**rjust()**\tReturns a right justified version of the string\n",
    "\n",
    ">**rpartition()**\tReturns a tuple where the string is parted into three parts\n",
    "\n",
    ">**rsplit()**\tSplits the string at the specified separator, and returns a list\n",
    "\n",
    ">**rstrip()**\tReturns a right trim version of the string\n",
    "\n",
    ">**split()**\tSplits the string at the specified separator, and returns a list\n",
    "\n",
    ">**splitlines()**\tSplits the string at line breaks and returns a list\n",
    "\n",
    ">**startswith()**\tReturns true if the string starts with the specified value\n",
    "\n",
    ">**strip()**\tReturns a trimmed version of the string\n",
    "\n",
    ">**swapcase()**\tSwaps cases, lower case becomes upper case and vice versa\n",
    "\n",
    ">**title()**\tConverts the first character of each word to upper case\n",
    "\n",
    ">**translate()**\tReturns a translated string\n",
    "\n",
    ">**upper()**\tConverts a string into upper case\n",
    "\n",
    ">**zfill()**\tFills the string with a specified number of 0 values at the beginning"
   ]
  },
  {
   "cell_type": "markdown",
   "id": "fdc674b0",
   "metadata": {},
   "source": [
    "###### Booleans"
   ]
  },
  {
   "cell_type": "code",
   "execution_count": 15,
   "id": "a61789db",
   "metadata": {},
   "outputs": [
    {
     "name": "stdout",
     "output_type": "stream",
     "text": [
      "True\n",
      "False\n",
      "False\n"
     ]
    }
   ],
   "source": [
    "print(10 > 9)\n",
    "print(10 == 9)\n",
    "print(10 < 9)"
   ]
  },
  {
   "cell_type": "code",
   "execution_count": 16,
   "id": "c508419c",
   "metadata": {},
   "outputs": [
    {
     "name": "stdout",
     "output_type": "stream",
     "text": [
      "b is not greater than a\n"
     ]
    }
   ],
   "source": [
    "a = 200\n",
    "b = 33\n",
    "\n",
    "if b > a:\n",
    "  print(\"b is greater than a\")\n",
    "else:\n",
    "  print(\"b is not greater than a\")"
   ]
  },
  {
   "cell_type": "code",
   "execution_count": 18,
   "id": "ea9f9fd8",
   "metadata": {},
   "outputs": [
    {
     "name": "stdout",
     "output_type": "stream",
     "text": [
      "True\n",
      "True\n"
     ]
    }
   ],
   "source": [
    "x = \"Hello\"\n",
    "y = 15\n",
    "\n",
    "print(bool(x))\n",
    "print(bool(y))"
   ]
  },
  {
   "cell_type": "code",
   "execution_count": 20,
   "id": "3fd98997",
   "metadata": {},
   "outputs": [
    {
     "data": {
      "text/plain": [
       "True"
      ]
     },
     "execution_count": 20,
     "metadata": {},
     "output_type": "execute_result"
    }
   ],
   "source": [
    "#Almost any value is evaluated to True if it has some sort of content.\n",
    "#Any string is True, except empty strings.\n",
    "#Any number is True, except 0.\n",
    "#Any list, tuple, set, and dictionary are True, except empty ones.\n",
    "\n",
    "bool(\"abc\")\n",
    "bool(123)\n",
    "bool([\"apple\", \"cherry\", \"banana\"])"
   ]
  },
  {
   "cell_type": "code",
   "execution_count": 25,
   "id": "81b5cd8f",
   "metadata": {},
   "outputs": [
    {
     "data": {
      "text/plain": [
       "False"
      ]
     },
     "execution_count": 25,
     "metadata": {},
     "output_type": "execute_result"
    }
   ],
   "source": [
    "#In fact, there are not many values that evaluate to F, except empty values, \n",
    "#such as (), [], {}, \"\", the number 0, and the value None. \n",
    "#And of course the value False evaluates to False.\n",
    "bool(False)\n",
    "bool(None)\n",
    "bool(0)\n",
    "bool(\"\")\n",
    "bool(())\n",
    "bool([])\n",
    "bool({})"
   ]
  },
  {
   "cell_type": "code",
   "execution_count": 28,
   "id": "1ac7ee96",
   "metadata": {},
   "outputs": [
    {
     "name": "stdout",
     "output_type": "stream",
     "text": [
      "False\n"
     ]
    }
   ],
   "source": [
    "#if you have an object that is made from a class with a __len__ function that returns 0 or False\n",
    "class myclass():\n",
    "    def __len__(self):\n",
    "        return 0\n",
    "\n",
    "myobj = myclass()\n",
    "print(bool(myobj))\n"
   ]
  },
  {
   "cell_type": "markdown",
   "id": "59d65abd",
   "metadata": {},
   "source": [
    "###### Functions returning Boolean"
   ]
  },
  {
   "cell_type": "code",
   "execution_count": 30,
   "id": "865f6302",
   "metadata": {},
   "outputs": [
    {
     "name": "stdout",
     "output_type": "stream",
     "text": [
      "True\n"
     ]
    }
   ],
   "source": [
    "def myFunction() :\n",
    "    return True\n",
    "\n",
    "print(myFunction())"
   ]
  },
  {
   "cell_type": "code",
   "execution_count": 31,
   "id": "68a62736",
   "metadata": {},
   "outputs": [
    {
     "name": "stdout",
     "output_type": "stream",
     "text": [
      "YES!\n"
     ]
    }
   ],
   "source": [
    "def myFunction() :\n",
    "    return True\n",
    "\n",
    "if myFunction():\n",
    "    print(\"YES!\")\n",
    "else:\n",
    "    print(\"NO!\")"
   ]
  },
  {
   "cell_type": "code",
   "execution_count": 32,
   "id": "7f8850d8",
   "metadata": {},
   "outputs": [
    {
     "name": "stdout",
     "output_type": "stream",
     "text": [
      "True\n"
     ]
    }
   ],
   "source": [
    "x = 200\n",
    "print(isinstance(x, int))"
   ]
  },
  {
   "cell_type": "markdown",
   "id": "2c9a4e7e",
   "metadata": {},
   "source": [
    "### Operators"
   ]
  },
  {
   "cell_type": "markdown",
   "id": "355fa792",
   "metadata": {},
   "source": [
    "* Arithmetic operators"
   ]
  },
  {
   "cell_type": "code",
   "execution_count": 16,
   "id": "c7b5ec6f",
   "metadata": {},
   "outputs": [
    {
     "name": "stdout",
     "output_type": "stream",
     "text": [
      "50\n",
      "15\n",
      "6\n",
      "2.0\n",
      "1\n",
      "4\n",
      "2\n"
     ]
    }
   ],
   "source": [
    "print(20+30)\n",
    "print(30-15)\n",
    "print(2*3)\n",
    "print(6/3)\n",
    "print(5%2)\n",
    "print(2**2)\n",
    "print(5//2)"
   ]
  },
  {
   "cell_type": "markdown",
   "id": "eccf5d4d",
   "metadata": {},
   "source": [
    "* Assignment operators\n"
   ]
  },
  {
   "cell_type": "code",
   "execution_count": 46,
   "id": "e87670d9",
   "metadata": {},
   "outputs": [
    {
     "name": "stdout",
     "output_type": "stream",
     "text": [
      "30\n",
      "33\n",
      "30\n",
      "90\n",
      "30.0\n",
      "27000.0\n",
      "1\n",
      "38\n",
      "2\n",
      "3\n",
      "0\n",
      "0\n",
      "0\n"
     ]
    }
   ],
   "source": [
    "x   =    30;    print(x)\n",
    "x   +=   3;    print(x)\n",
    "x   -=   3;    print(x)\n",
    "x   *=   3;    print(x)\n",
    "x   /=   3;    print(x)\n",
    "x   **=  3;    print(x)\n",
    "x    =   115\n",
    "x   %=   3;    print(x)\n",
    "x   =  115\n",
    "x   //=  3;    print(x)\n",
    "\n",
    "x   &=   3;    print(x)\n",
    "x   |=   3;    print(x)\n",
    "x   ^=   3;    print(x)\n",
    "x   >>=  3;    print(x)\n",
    "x   <<=  3;    print(x)"
   ]
  },
  {
   "cell_type": "markdown",
   "id": "7ab508ce",
   "metadata": {},
   "source": [
    "* Comparison operators"
   ]
  },
  {
   "cell_type": "code",
   "execution_count": 53,
   "id": "6d9e0a47",
   "metadata": {},
   "outputs": [
    {
     "name": "stdout",
     "output_type": "stream",
     "text": [
      "False\n",
      "True\n",
      "False\n",
      "True\n",
      "True\n",
      "False\n"
     ]
    }
   ],
   "source": [
    "x = 5; y = 10; \n",
    "print(x == y)\n",
    "print(x != y)\n",
    "print(x  > y)\n",
    "print(x <  y)\n",
    "print(x <= y)\n",
    "print(x >= y)"
   ]
  },
  {
   "cell_type": "markdown",
   "id": "4a0d598a",
   "metadata": {},
   "source": [
    "* Logical operators"
   ]
  },
  {
   "cell_type": "code",
   "execution_count": 57,
   "id": "9be34e1e",
   "metadata": {},
   "outputs": [
    {
     "data": {
      "text/plain": [
       "False"
      ]
     },
     "execution_count": 57,
     "metadata": {},
     "output_type": "execute_result"
    }
   ],
   "source": [
    "x < 5 and  x < 10"
   ]
  },
  {
   "cell_type": "code",
   "execution_count": 58,
   "id": "e58e0284",
   "metadata": {},
   "outputs": [
    {
     "data": {
      "text/plain": [
       "False"
      ]
     },
     "execution_count": 58,
     "metadata": {},
     "output_type": "execute_result"
    }
   ],
   "source": [
    "x < 5 or x < 4"
   ]
  },
  {
   "cell_type": "code",
   "execution_count": 59,
   "id": "b849f8df",
   "metadata": {},
   "outputs": [
    {
     "data": {
      "text/plain": [
       "True"
      ]
     },
     "execution_count": 59,
     "metadata": {},
     "output_type": "execute_result"
    }
   ],
   "source": [
    "not(x < 5 and x < 10)"
   ]
  },
  {
   "cell_type": "markdown",
   "id": "44a04b83",
   "metadata": {},
   "source": [
    " * Identity operators "
   ]
  },
  {
   "cell_type": "code",
   "execution_count": 60,
   "id": "1bc5d408",
   "metadata": {},
   "outputs": [
    {
     "data": {
      "text/plain": [
       "False"
      ]
     },
     "execution_count": 60,
     "metadata": {},
     "output_type": "execute_result"
    }
   ],
   "source": [
    "x is y"
   ]
  },
  {
   "cell_type": "code",
   "execution_count": 61,
   "id": "d9661e09",
   "metadata": {},
   "outputs": [
    {
     "data": {
      "text/plain": [
       "True"
      ]
     },
     "execution_count": 61,
     "metadata": {},
     "output_type": "execute_result"
    }
   ],
   "source": [
    "x is not y"
   ]
  },
  {
   "cell_type": "markdown",
   "id": "528b4833",
   "metadata": {},
   "source": [
    "* Membership operators"
   ]
  },
  {
   "cell_type": "code",
   "execution_count": 69,
   "id": "804a5f4e",
   "metadata": {},
   "outputs": [
    {
     "data": {
      "text/plain": [
       "True"
      ]
     },
     "execution_count": 69,
     "metadata": {},
     "output_type": "execute_result"
    }
   ],
   "source": [
    "a = [1, 2, 3, 4, 5]\n",
    "x in a"
   ]
  },
  {
   "cell_type": "code",
   "execution_count": 70,
   "id": "3739cc96",
   "metadata": {},
   "outputs": [
    {
     "data": {
      "text/plain": [
       "True"
      ]
     },
     "execution_count": 70,
     "metadata": {},
     "output_type": "execute_result"
    }
   ],
   "source": [
    "y not in a"
   ]
  },
  {
   "cell_type": "markdown",
   "id": "5813f9ba",
   "metadata": {},
   "source": [
    "* Bitwise operators"
   ]
  },
  {
   "cell_type": "markdown",
   "id": "cd54325a",
   "metadata": {},
   "source": [
    "& \tAND\tSets each bit to 1 if both bits are 1\n",
    "\n",
    "|\tOR\tSets each bit to 1 if one of two bits is 1\n",
    "\n",
    " ^\tXOR\tSets each bit to 1 if only one of two bits is 1\n",
    " \n",
    "~ \tNOT\tInverts all the bits\n",
    "\n",
    "<<\tZero fill left shift\tShift left by pushing zeros in from the right and let the leftmost bits fall off\n",
    "\n",
    "\\>>\tSigned right shift\tShift right by pushing copies of the leftmost bit in from the left, and let the rightmost bits fall off"
   ]
  },
  {
   "cell_type": "markdown",
   "id": "7e508761",
   "metadata": {},
   "source": [
    "### Lists"
   ]
  },
  {
   "cell_type": "code",
   "execution_count": 127,
   "id": "0b5102f2",
   "metadata": {},
   "outputs": [
    {
     "name": "stdout",
     "output_type": "stream",
     "text": [
      "['apple', 'banana', 'cherry', 'apple', 'cherry']\n",
      "5\n"
     ]
    }
   ],
   "source": [
    "mylist =  [\"apple\", \"banana\", \"cherry\", \"apple\", \"cherry\"]\n",
    "print(mylist)\n",
    "print(len(mylist))"
   ]
  },
  {
   "cell_type": "code",
   "execution_count": 128,
   "id": "ab778f76",
   "metadata": {},
   "outputs": [
    {
     "name": "stdout",
     "output_type": "stream",
     "text": [
      "['abc', 34, True, 40, 'male']\n",
      "<class 'list'>\n"
     ]
    }
   ],
   "source": [
    "list1 = [\"apple\", \"banana\", \"cherry\"]\n",
    "list2 = [1, 5, 7, 9, 3]\n",
    "list3 = [True, False, False]\n",
    "list4 = [\"abc\", 34, True, 40, \"male\"]\n",
    "print(list4)\n",
    "print(type(list4))"
   ]
  },
  {
   "cell_type": "code",
   "execution_count": 129,
   "id": "b34dd2e5",
   "metadata": {},
   "outputs": [
    {
     "name": "stdout",
     "output_type": "stream",
     "text": [
      "['apple', 'banana', 'cherry']\n"
     ]
    }
   ],
   "source": [
    "thislist = list((\"apple\", \"banana\", \"cherry\")) # note the double round-brackets\n",
    "print(thislist)"
   ]
  },
  {
   "cell_type": "markdown",
   "id": "7ca9868d",
   "metadata": {},
   "source": [
    "###### access list items"
   ]
  },
  {
   "cell_type": "code",
   "execution_count": 130,
   "id": "66ae9859",
   "metadata": {},
   "outputs": [
    {
     "name": "stdout",
     "output_type": "stream",
     "text": [
      "kiwi\n",
      "mango\n",
      "['cherry', 'orange', 'kiwi']\n",
      "['apple', 'banana', 'cherry', 'orange']\n",
      "['cherry', 'orange', 'kiwi', 'melon', 'mango']\n",
      "['orange', 'kiwi', 'melon']\n",
      "Yes, 'apple' is in the fruits list\n"
     ]
    }
   ],
   "source": [
    "list5 = [\"apple\", \"banana\", \"cherry\", \"orange\", \"kiwi\", \"melon\", \"mango\"]\n",
    "print(list5[4])\n",
    "print(list5[-1])\n",
    "print(list5[2:5])\n",
    "print(list5[:4])\n",
    "print(list5[2:])\n",
    "print(list5[-4:-1])\n",
    "\n",
    "if \"apple\" in thislist:\n",
    "    print(\"Yes, 'apple' is in the fruits list\")"
   ]
  },
  {
   "cell_type": "markdown",
   "id": "608ed87d",
   "metadata": {},
   "source": [
    "###### change list items"
   ]
  },
  {
   "cell_type": "code",
   "execution_count": 131,
   "id": "2668aba8",
   "metadata": {
    "scrolled": true
   },
   "outputs": [
    {
     "name": "stdout",
     "output_type": "stream",
     "text": [
      "['apple', 'banana', 'cherry', 'orange', 'macho', 'melon', 'mango']\n"
     ]
    }
   ],
   "source": [
    "list5[4] = \"macho\"; print(list5)"
   ]
  },
  {
   "cell_type": "code",
   "execution_count": 132,
   "id": "555767e4",
   "metadata": {},
   "outputs": [
    {
     "name": "stdout",
     "output_type": "stream",
     "text": [
      "['apple', 'blackcurrant', 'watermelon', 'orange', 'macho', 'melon', 'mango']\n"
     ]
    }
   ],
   "source": [
    "list5[1:3] = [\"blackcurrant\", \"watermelon\"]\n",
    "print(list5)"
   ]
  },
  {
   "cell_type": "code",
   "execution_count": 133,
   "id": "813efa95",
   "metadata": {},
   "outputs": [
    {
     "name": "stdout",
     "output_type": "stream",
     "text": [
      "['apple', 'currant', 'water', 'watermelon', 'orange', 'macho', 'melon', 'mango']\n"
     ]
    }
   ],
   "source": [
    "list5[1:2] = [\"currant\", \"water\"]\n",
    "print(list5)"
   ]
  },
  {
   "cell_type": "code",
   "execution_count": 134,
   "id": "290ce68b",
   "metadata": {},
   "outputs": [
    {
     "name": "stdout",
     "output_type": "stream",
     "text": [
      "['apple', 'blackie', 'watermelon', 'orange', 'macho', 'melon', 'mango']\n"
     ]
    }
   ],
   "source": [
    "list5[1:3] = [\"blackie\"]\n",
    "print(list5)"
   ]
  },
  {
   "cell_type": "code",
   "execution_count": 135,
   "id": "2d420d97",
   "metadata": {},
   "outputs": [
    {
     "name": "stdout",
     "output_type": "stream",
     "text": [
      "['apple', 'blackie', 'quack', 'watermelon', 'orange', 'macho', 'melon', 'mango']\n"
     ]
    }
   ],
   "source": [
    "list5.insert(2, \"quack\")\n",
    "print(list5)"
   ]
  },
  {
   "cell_type": "markdown",
   "id": "7d14c7ad",
   "metadata": {},
   "source": [
    "###### Add List Items"
   ]
  },
  {
   "cell_type": "code",
   "execution_count": 136,
   "id": "a29b1595",
   "metadata": {},
   "outputs": [
    {
     "name": "stdout",
     "output_type": "stream",
     "text": [
      "['apple', 'blackie', 'quack', 'watermelon', 'orange', 'macho', 'melon', 'mango', 'orange']\n"
     ]
    }
   ],
   "source": [
    "list5.append(\"orange\")\n",
    "print(list5)"
   ]
  },
  {
   "cell_type": "code",
   "execution_count": 137,
   "id": "e0a38f6b",
   "metadata": {},
   "outputs": [
    {
     "name": "stdout",
     "output_type": "stream",
     "text": [
      "['apple', 'orange', 'blackie', 'quack', 'watermelon', 'orange', 'macho', 'melon', 'mango', 'orange']\n"
     ]
    }
   ],
   "source": [
    "list5.insert(1, \"orange\")\n",
    "print(list5)"
   ]
  },
  {
   "cell_type": "code",
   "execution_count": 138,
   "id": "add86248",
   "metadata": {},
   "outputs": [
    {
     "name": "stdout",
     "output_type": "stream",
     "text": [
      "['apple', 'orange', 'blackie', 'quack', 'watermelon', 'orange', 'macho', 'melon', 'mango', 'orange', 'mango', 'pineapple', 'papaya']\n"
     ]
    }
   ],
   "source": [
    "tropical = [\"mango\", \"pineapple\", \"papaya\"]\n",
    "list5.extend(tropical)\n",
    "print(list5)"
   ]
  },
  {
   "cell_type": "code",
   "execution_count": 139,
   "id": "bcfa97a8",
   "metadata": {},
   "outputs": [
    {
     "name": "stdout",
     "output_type": "stream",
     "text": [
      "['apple', 'orange', 'blackie', 'quack', 'watermelon', 'orange', 'macho', 'melon', 'mango', 'orange', 'mango', 'pineapple', 'papaya', 'kiwi', 'orange']\n"
     ]
    }
   ],
   "source": [
    "thistuple = (\"kiwi\", \"orange\")\n",
    "list5.extend(thistuple)\n",
    "print(list5)"
   ]
  },
  {
   "cell_type": "code",
   "execution_count": 141,
   "id": "c809b0f6",
   "metadata": {},
   "outputs": [
    {
     "name": "stdout",
     "output_type": "stream",
     "text": [
      "['apple', 'blackie', 'quack', 'watermelon', 'macho', 'melon', 'mango', 'orange', 'mango', 'pineapple', 'papaya', 'kiwi', 'orange']\n"
     ]
    }
   ],
   "source": [
    "list5.remove(\"orange\")\n",
    "print(list5)"
   ]
  },
  {
   "cell_type": "code",
   "execution_count": 142,
   "id": "18c2c514",
   "metadata": {},
   "outputs": [
    {
     "name": "stdout",
     "output_type": "stream",
     "text": [
      "['apple', 'quack', 'watermelon', 'macho', 'melon', 'mango', 'orange', 'mango', 'pineapple', 'papaya', 'kiwi', 'orange']\n"
     ]
    }
   ],
   "source": [
    "list5.pop(1)\n",
    "print(list5)"
   ]
  },
  {
   "cell_type": "code",
   "execution_count": 144,
   "id": "442f9498",
   "metadata": {},
   "outputs": [
    {
     "name": "stdout",
     "output_type": "stream",
     "text": [
      "['apple', 'quack', 'watermelon', 'macho', 'melon', 'mango', 'orange', 'mango', 'pineapple', 'papaya']\n"
     ]
    }
   ],
   "source": [
    "list5.pop()\n",
    "print(list5) #removes the last item"
   ]
  },
  {
   "cell_type": "code",
   "execution_count": 145,
   "id": "0e8a343a",
   "metadata": {},
   "outputs": [
    {
     "name": "stdout",
     "output_type": "stream",
     "text": [
      "['quack', 'watermelon', 'macho', 'melon', 'mango', 'orange', 'mango', 'pineapple', 'papaya']\n"
     ]
    }
   ],
   "source": [
    "del list5[0]\n",
    "print(list5)"
   ]
  },
  {
   "cell_type": "code",
   "execution_count": 146,
   "id": "24cdba73",
   "metadata": {},
   "outputs": [
    {
     "name": "stdout",
     "output_type": "stream",
     "text": [
      "['quack', 'watermelon', 'macho', 'melon', 'mango', 'orange', 'mango', 'pineapple', 'papaya']\n"
     ]
    }
   ],
   "source": [
    "list_copy = list5\n",
    "del list_copy\n",
    "#print(list_copy)\n",
    "print(list5)"
   ]
  },
  {
   "cell_type": "code",
   "execution_count": 149,
   "id": "72e6ab36",
   "metadata": {},
   "outputs": [
    {
     "name": "stdout",
     "output_type": "stream",
     "text": [
      "[]\n",
      "[]\n"
     ]
    }
   ],
   "source": [
    "list_copy = list5\n",
    "list_copy.clear()\n",
    "print(list_copy)\n",
    "print(list5)"
   ]
  },
  {
   "cell_type": "markdown",
   "id": "a728994a",
   "metadata": {},
   "source": [
    "###### Loop List"
   ]
  },
  {
   "cell_type": "code",
   "execution_count": 153,
   "id": "d8ee97f2",
   "metadata": {},
   "outputs": [
    {
     "name": "stdout",
     "output_type": "stream",
     "text": [
      "apple\n",
      "banana\n",
      "cherry\n"
     ]
    }
   ],
   "source": [
    "thislist = [\"apple\", \"banana\", \"cherry\"] # Loop Through a List\n",
    "for x in thislist: \n",
    "    print(x)"
   ]
  },
  {
   "cell_type": "code",
   "execution_count": 151,
   "id": "36b006ca",
   "metadata": {},
   "outputs": [
    {
     "name": "stdout",
     "output_type": "stream",
     "text": [
      "apple\n",
      "banana\n",
      "cherry\n"
     ]
    }
   ],
   "source": [
    "thislist = [\"apple\", \"banana\", \"cherry\"] # Loop Through the Index Numbers\n",
    "for i in range(len(thislist)):\n",
    "    print(thislist[i])"
   ]
  },
  {
   "cell_type": "code",
   "execution_count": 155,
   "id": "c8d78639",
   "metadata": {},
   "outputs": [
    {
     "name": "stdout",
     "output_type": "stream",
     "text": [
      "apple\n",
      "banana\n",
      "cherry\n"
     ]
    }
   ],
   "source": [
    "thislist = [\"apple\", \"banana\", \"cherry\"] # Using a While Loop\n",
    "i = 0\n",
    "while i < len(thislist):\n",
    "    print(thislist[i])\n",
    "    i = i + 1"
   ]
  },
  {
   "cell_type": "code",
   "execution_count": 156,
   "id": "b82d78e4",
   "metadata": {},
   "outputs": [
    {
     "name": "stdout",
     "output_type": "stream",
     "text": [
      "apple\n",
      "banana\n",
      "cherry\n"
     ]
    },
    {
     "data": {
      "text/plain": [
       "[None, None, None]"
      ]
     },
     "execution_count": 156,
     "metadata": {},
     "output_type": "execute_result"
    }
   ],
   "source": [
    "thislist = [\"apple\", \"banana\", \"cherry\"] # Looping Using List Comprehension\n",
    "[print(x) for x in thislist]"
   ]
  },
  {
   "cell_type": "markdown",
   "id": "2953bde4",
   "metadata": {},
   "source": [
    "###### List Comprehension"
   ]
  },
  {
   "cell_type": "code",
   "execution_count": 158,
   "id": "887c9ee2",
   "metadata": {},
   "outputs": [
    {
     "name": "stdout",
     "output_type": "stream",
     "text": [
      "['apple', 'banana', 'mango']\n"
     ]
    }
   ],
   "source": [
    "fruits = [\"apple\", \"banana\", \"cherry\", \"kiwi\", \"mango\"]\n",
    "newlist = []\n",
    "\n",
    "for x in fruits:\n",
    "    if \"a\" in x:\n",
    "        newlist.append(x)\n",
    "\n",
    "print(newlist)"
   ]
  },
  {
   "cell_type": "code",
   "execution_count": 159,
   "id": "ffbd072f",
   "metadata": {},
   "outputs": [
    {
     "name": "stdout",
     "output_type": "stream",
     "text": [
      "['apple', 'banana', 'mango']\n"
     ]
    }
   ],
   "source": [
    "fruits = [\"apple\", \"banana\", \"cherry\", \"kiwi\", \"mango\"]\n",
    "\n",
    "newlist = [x for x in fruits if \"a\" in x]\n",
    "\n",
    "print(newlist)"
   ]
  },
  {
   "cell_type": "markdown",
   "id": "6a9d3fbd",
   "metadata": {},
   "source": [
    "##### Syntax"
   ]
  },
  {
   "cell_type": "markdown",
   "id": "441da325",
   "metadata": {},
   "source": [
    " newlist = [expression **for** item **in** iterable **if** condition == **True**]"
   ]
  },
  {
   "cell_type": "code",
   "execution_count": 162,
   "id": "386be64d",
   "metadata": {},
   "outputs": [
    {
     "name": "stdout",
     "output_type": "stream",
     "text": [
      "['banana', 'cherry', 'kiwi', 'mango']\n"
     ]
    }
   ],
   "source": [
    "newlist = [x for x in fruits if x != \"apple\"]\n",
    "print(newlist)"
   ]
  },
  {
   "cell_type": "code",
   "execution_count": 163,
   "id": "8d65700e",
   "metadata": {},
   "outputs": [
    {
     "name": "stdout",
     "output_type": "stream",
     "text": [
      "['apple', 'banana', 'cherry', 'kiwi', 'mango']\n"
     ]
    }
   ],
   "source": [
    "newlist = [x for x in fruits]\n",
    "print(newlist)"
   ]
  },
  {
   "cell_type": "markdown",
   "id": "69522ae6",
   "metadata": {},
   "source": [
    "##### Iterable"
   ]
  },
  {
   "cell_type": "code",
   "execution_count": 166,
   "id": "e4ac4c07",
   "metadata": {},
   "outputs": [
    {
     "name": "stdout",
     "output_type": "stream",
     "text": [
      "[0, 1, 2, 3, 4, 5, 6, 7, 8, 9]\n"
     ]
    }
   ],
   "source": [
    "newlist = [x for x in range(10)]\n",
    "print(newlist)"
   ]
  },
  {
   "cell_type": "code",
   "execution_count": 167,
   "id": "2706c4e2",
   "metadata": {},
   "outputs": [
    {
     "name": "stdout",
     "output_type": "stream",
     "text": [
      "[0, 1, 2, 3, 4]\n"
     ]
    }
   ],
   "source": [
    "newlist = [x for x in range(10) if x < 5]\n",
    "print(newlist)"
   ]
  },
  {
   "cell_type": "markdown",
   "id": "04d14592",
   "metadata": {},
   "source": [
    "##### Expression"
   ]
  },
  {
   "cell_type": "code",
   "execution_count": 168,
   "id": "a4a6b917",
   "metadata": {},
   "outputs": [
    {
     "name": "stdout",
     "output_type": "stream",
     "text": [
      "['APPLE', 'BANANA', 'CHERRY', 'KIWI', 'MANGO']\n"
     ]
    }
   ],
   "source": [
    "newlist = [x.upper() for x in fruits]\n",
    "print(newlist)"
   ]
  },
  {
   "cell_type": "code",
   "execution_count": 169,
   "id": "599f90c8",
   "metadata": {},
   "outputs": [
    {
     "name": "stdout",
     "output_type": "stream",
     "text": [
      "['hello', 'hello', 'hello', 'hello', 'hello']\n"
     ]
    }
   ],
   "source": [
    "newlist = ['hello' for x in fruits] # settings all values to hello in list\n",
    "print(newlist)"
   ]
  },
  {
   "cell_type": "code",
   "execution_count": 171,
   "id": "2f191ca0",
   "metadata": {},
   "outputs": [
    {
     "name": "stdout",
     "output_type": "stream",
     "text": [
      "['apple', 'orange', 'cherry', 'kiwi', 'mango']\n"
     ]
    }
   ],
   "source": [
    "newlist = [x if x != \"banana\" else \"orange\" for x in fruits] # Return \"orange\" instead of \"banana\"\n",
    "print(newlist)\n",
    "# \"Return the item if it is not banana, if it is banana return orange\""
   ]
  },
  {
   "cell_type": "markdown",
   "id": "8fb438df",
   "metadata": {},
   "source": [
    "##### Sort Lists"
   ]
  },
  {
   "cell_type": "code",
   "execution_count": 174,
   "id": "32091e04",
   "metadata": {},
   "outputs": [
    {
     "name": "stdout",
     "output_type": "stream",
     "text": [
      "['banana', 'kiwi', 'mango', 'orange', 'pineapple']\n"
     ]
    }
   ],
   "source": [
    "thislist = [\"orange\", \"mango\", \"kiwi\", \"pineapple\", \"banana\"]\n",
    "thislist.sort() \n",
    "print(thislist)\n",
    "# sort() method that will sort the list alphanumerically, ascending, by default"
   ]
  },
  {
   "cell_type": "code",
   "execution_count": 175,
   "id": "678b5f0d",
   "metadata": {},
   "outputs": [
    {
     "name": "stdout",
     "output_type": "stream",
     "text": [
      "[23, 50, 65, 82, 100]\n"
     ]
    }
   ],
   "source": [
    "thislist = [100, 50, 65, 82, 23]\n",
    "thislist.sort()\n",
    "print(thislist)"
   ]
  },
  {
   "cell_type": "markdown",
   "id": "f4e7b3ae",
   "metadata": {},
   "source": [
    "###### Sort descending"
   ]
  },
  {
   "cell_type": "code",
   "execution_count": 176,
   "id": "0c7a63d3",
   "metadata": {},
   "outputs": [
    {
     "name": "stdout",
     "output_type": "stream",
     "text": [
      "['pineapple', 'orange', 'mango', 'kiwi', 'banana']\n"
     ]
    }
   ],
   "source": [
    "thislist = [\"orange\", \"mango\", \"kiwi\", \"pineapple\", \"banana\"]\n",
    "thislist.sort(reverse = True)\n",
    "print(thislist)"
   ]
  },
  {
   "cell_type": "code",
   "execution_count": 177,
   "id": "cb0870f8",
   "metadata": {},
   "outputs": [
    {
     "name": "stdout",
     "output_type": "stream",
     "text": [
      "[100, 82, 65, 50, 23]\n"
     ]
    }
   ],
   "source": [
    "thislist = [100, 50, 65, 82, 23]\n",
    "thislist.sort(reverse = True)\n",
    "print(thislist)"
   ]
  },
  {
   "cell_type": "markdown",
   "id": "8fce6e10",
   "metadata": {},
   "source": [
    "###### Customize sort Function"
   ]
  },
  {
   "cell_type": "code",
   "execution_count": 179,
   "id": "34bfcdf7",
   "metadata": {},
   "outputs": [
    {
     "name": "stdout",
     "output_type": "stream",
     "text": [
      "[50, 65, 23, 82, 100]\n"
     ]
    }
   ],
   "source": [
    "def myfunc(n):\n",
    "    return abs(n - 50)\n",
    "\n",
    "thislist = [100, 50, 65, 82, 23]\n",
    "thislist.sort(key = myfunc)\n",
    "print(thislist)"
   ]
  },
  {
   "cell_type": "markdown",
   "id": "11042fbd",
   "metadata": {},
   "source": [
    "###### Case Insensitive Sort"
   ]
  },
  {
   "cell_type": "code",
   "execution_count": 180,
   "id": "58b964fb",
   "metadata": {},
   "outputs": [
    {
     "name": "stdout",
     "output_type": "stream",
     "text": [
      "['Kiwi', 'Orange', 'banana', 'cherry']\n"
     ]
    }
   ],
   "source": [
    "thislist = [\"banana\", \"Orange\", \"Kiwi\", \"cherry\"]\n",
    "thislist.sort()\n",
    "print(thislist)"
   ]
  },
  {
   "cell_type": "code",
   "execution_count": 181,
   "id": "65a7ece6",
   "metadata": {},
   "outputs": [
    {
     "name": "stdout",
     "output_type": "stream",
     "text": [
      "['banana', 'cherry', 'Kiwi', 'Orange']\n"
     ]
    }
   ],
   "source": [
    "thislist = [\"banana\", \"Orange\", \"Kiwi\", \"cherry\"]\n",
    "thislist.sort(key = str.lower)\n",
    "print(thislist)"
   ]
  },
  {
   "cell_type": "markdown",
   "id": "927fe177",
   "metadata": {},
   "source": [
    "###### Reverse Order"
   ]
  },
  {
   "cell_type": "code",
   "execution_count": 182,
   "id": "a66933fc",
   "metadata": {},
   "outputs": [
    {
     "name": "stdout",
     "output_type": "stream",
     "text": [
      "['cherry', 'Kiwi', 'Orange', 'banana']\n"
     ]
    }
   ],
   "source": [
    "thislist = [\"banana\", \"Orange\", \"Kiwi\", \"cherry\"]\n",
    "thislist.reverse()\n",
    "print(thislist)"
   ]
  },
  {
   "cell_type": "code",
   "execution_count": null,
   "id": "a1c023d1",
   "metadata": {},
   "outputs": [],
   "source": []
  }
 ],
 "metadata": {
  "kernelspec": {
   "display_name": "Python 3 (ipykernel)",
   "language": "python",
   "name": "python3"
  },
  "language_info": {
   "codemirror_mode": {
    "name": "ipython",
    "version": 3
   },
   "file_extension": ".py",
   "mimetype": "text/x-python",
   "name": "python",
   "nbconvert_exporter": "python",
   "pygments_lexer": "ipython3",
   "version": "3.9.7"
  }
 },
 "nbformat": 4,
 "nbformat_minor": 5
}
